{
 "cells": [
  {
   "cell_type": "markdown",
   "metadata": {},
   "source": [
    "## 配置选项"
   ]
  },
  {
   "cell_type": "code",
   "execution_count": 1,
   "metadata": {},
   "outputs": [],
   "source": [
    "import numpy as np\n",
    "import pandas as pd\n",
    "\n",
    "pd.set_option('display.max_rows',500)\n",
    "pd.set_option('display.max_columns',500)\n",
    "pd.set_option('display.width',1000)\n",
    "pd.set_option('display.max_colwidth',1000)"
   ]
  },
  {
   "cell_type": "markdown",
   "metadata": {},
   "source": [
    "## 数据导入导出"
   ]
  },
  {
   "cell_type": "code",
   "execution_count": 2,
   "metadata": {},
   "outputs": [
    {
     "output_type": "execute_result",
     "data": {
      "text/plain": "                    pkg                              cert    size    users\n0        com.tencent.mm  18c867f0717aa67b2ab7347505ba07ed  231234  3790371\n1        com.tencent.mm  18c867f0717aa67b2ab7347505ba07ed  238003  7790074\n2  com.tencent.mobileqq  a6b745bf24a2c277527716f6f36eb68d  377223  9890073\n3  com.tencent.mobileqq  4e3e851c931319a63f2395fa65f126ca  389908       38",
      "text/html": "<div>\n<style scoped>\n    .dataframe tbody tr th:only-of-type {\n        vertical-align: middle;\n    }\n\n    .dataframe tbody tr th {\n        vertical-align: top;\n    }\n\n    .dataframe thead th {\n        text-align: right;\n    }\n</style>\n<table border=\"1\" class=\"dataframe\">\n  <thead>\n    <tr style=\"text-align: right;\">\n      <th></th>\n      <th>pkg</th>\n      <th>cert</th>\n      <th>size</th>\n      <th>users</th>\n    </tr>\n  </thead>\n  <tbody>\n    <tr>\n      <th>0</th>\n      <td>com.tencent.mm</td>\n      <td>18c867f0717aa67b2ab7347505ba07ed</td>\n      <td>231234</td>\n      <td>3790371</td>\n    </tr>\n    <tr>\n      <th>1</th>\n      <td>com.tencent.mm</td>\n      <td>18c867f0717aa67b2ab7347505ba07ed</td>\n      <td>238003</td>\n      <td>7790074</td>\n    </tr>\n    <tr>\n      <th>2</th>\n      <td>com.tencent.mobileqq</td>\n      <td>a6b745bf24a2c277527716f6f36eb68d</td>\n      <td>377223</td>\n      <td>9890073</td>\n    </tr>\n    <tr>\n      <th>3</th>\n      <td>com.tencent.mobileqq</td>\n      <td>4e3e851c931319a63f2395fa65f126ca</td>\n      <td>389908</td>\n      <td>38</td>\n    </tr>\n  </tbody>\n</table>\n</div>"
     },
     "metadata": {},
     "execution_count": 2
    }
   ],
   "source": [
    "df1 = pd.read_csv(\"data/pcs_users_1.csv\", \"\\t\")\n",
    "df1"
   ]
  },
  {
   "cell_type": "code",
   "execution_count": 3,
   "metadata": {},
   "outputs": [
    {
     "output_type": "execute_result",
     "data": {
      "text/plain": "                    pkg                              cert    size    users\n0        com.tencent.mm  18c867f0717aa67b2ab7347505ba07ed  232009  1210371\n1  com.tencent.mobileqq  a6b745bf24a2c277527716f6f36eb68d  377223  9890073",
      "text/html": "<div>\n<style scoped>\n    .dataframe tbody tr th:only-of-type {\n        vertical-align: middle;\n    }\n\n    .dataframe tbody tr th {\n        vertical-align: top;\n    }\n\n    .dataframe thead th {\n        text-align: right;\n    }\n</style>\n<table border=\"1\" class=\"dataframe\">\n  <thead>\n    <tr style=\"text-align: right;\">\n      <th></th>\n      <th>pkg</th>\n      <th>cert</th>\n      <th>size</th>\n      <th>users</th>\n    </tr>\n  </thead>\n  <tbody>\n    <tr>\n      <th>0</th>\n      <td>com.tencent.mm</td>\n      <td>18c867f0717aa67b2ab7347505ba07ed</td>\n      <td>232009</td>\n      <td>1210371</td>\n    </tr>\n    <tr>\n      <th>1</th>\n      <td>com.tencent.mobileqq</td>\n      <td>a6b745bf24a2c277527716f6f36eb68d</td>\n      <td>377223</td>\n      <td>9890073</td>\n    </tr>\n  </tbody>\n</table>\n</div>"
     },
     "metadata": {},
     "execution_count": 3
    }
   ],
   "source": [
    "df2 = pd.read_csv(\"data/pcs_users_2.csv\", \"\\t\")\n",
    "df2"
   ]
  },
  {
   "cell_type": "code",
   "execution_count": 4,
   "metadata": {},
   "outputs": [
    {
     "output_type": "execute_result",
     "data": {
      "text/plain": "                    pkg                              cert    size appstore\n0        com.tencent.mm  18c867f0717aa67b2ab7347505ba07ed  231234  tencent\n1        com.tencent.mm  18c867f0717aa67b2ab7347505ba07ed  238003    baidu\n2  com.tencent.mobileqq  a6b745bf24a2c277527716f6f36eb68d  377223  tencent\n3     com.qihoo.360safe  33abb11bf7e4072cc70cbd034078e72d  556226    qihoo",
      "text/html": "<div>\n<style scoped>\n    .dataframe tbody tr th:only-of-type {\n        vertical-align: middle;\n    }\n\n    .dataframe tbody tr th {\n        vertical-align: top;\n    }\n\n    .dataframe thead th {\n        text-align: right;\n    }\n</style>\n<table border=\"1\" class=\"dataframe\">\n  <thead>\n    <tr style=\"text-align: right;\">\n      <th></th>\n      <th>pkg</th>\n      <th>cert</th>\n      <th>size</th>\n      <th>appstore</th>\n    </tr>\n  </thead>\n  <tbody>\n    <tr>\n      <th>0</th>\n      <td>com.tencent.mm</td>\n      <td>18c867f0717aa67b2ab7347505ba07ed</td>\n      <td>231234</td>\n      <td>tencent</td>\n    </tr>\n    <tr>\n      <th>1</th>\n      <td>com.tencent.mm</td>\n      <td>18c867f0717aa67b2ab7347505ba07ed</td>\n      <td>238003</td>\n      <td>baidu</td>\n    </tr>\n    <tr>\n      <th>2</th>\n      <td>com.tencent.mobileqq</td>\n      <td>a6b745bf24a2c277527716f6f36eb68d</td>\n      <td>377223</td>\n      <td>tencent</td>\n    </tr>\n    <tr>\n      <th>3</th>\n      <td>com.qihoo.360safe</td>\n      <td>33abb11bf7e4072cc70cbd034078e72d</td>\n      <td>556226</td>\n      <td>qihoo</td>\n    </tr>\n  </tbody>\n</table>\n</div>"
     },
     "metadata": {},
     "execution_count": 4
    }
   ],
   "source": [
    "df3 = pd.read_csv(\"data/pcs_appstore.csv\", \"\\t\")\n",
    "df3"
   ]
  },
  {
   "cell_type": "code",
   "execution_count": 5,
   "metadata": {
    "tags": []
   },
   "outputs": [
    {
     "output_type": "stream",
     "name": "stdout",
     "text": "(4, 4)\n4\n4\n"
    },
    {
     "output_type": "execute_result",
     "data": {
      "text/plain": "(None, None, None)"
     },
     "metadata": {},
     "execution_count": 5
    }
   ],
   "source": [
    "print(df1.shape), print(df1.shape[0]), print(df1.shape[1])"
   ]
  },
  {
   "cell_type": "markdown",
   "metadata": {},
   "source": [
    "## 行列截取"
   ]
  },
  {
   "cell_type": "code",
   "execution_count": 6,
   "metadata": {},
   "outputs": [
    {
     "output_type": "execute_result",
     "data": {
      "text/plain": "                    pkg                              cert    size\n0        com.tencent.mm  18c867f0717aa67b2ab7347505ba07ed  231234\n1        com.tencent.mm  18c867f0717aa67b2ab7347505ba07ed  238003\n2  com.tencent.mobileqq  a6b745bf24a2c277527716f6f36eb68d  377223\n3  com.tencent.mobileqq  4e3e851c931319a63f2395fa65f126ca  389908",
      "text/html": "<div>\n<style scoped>\n    .dataframe tbody tr th:only-of-type {\n        vertical-align: middle;\n    }\n\n    .dataframe tbody tr th {\n        vertical-align: top;\n    }\n\n    .dataframe thead th {\n        text-align: right;\n    }\n</style>\n<table border=\"1\" class=\"dataframe\">\n  <thead>\n    <tr style=\"text-align: right;\">\n      <th></th>\n      <th>pkg</th>\n      <th>cert</th>\n      <th>size</th>\n    </tr>\n  </thead>\n  <tbody>\n    <tr>\n      <th>0</th>\n      <td>com.tencent.mm</td>\n      <td>18c867f0717aa67b2ab7347505ba07ed</td>\n      <td>231234</td>\n    </tr>\n    <tr>\n      <th>1</th>\n      <td>com.tencent.mm</td>\n      <td>18c867f0717aa67b2ab7347505ba07ed</td>\n      <td>238003</td>\n    </tr>\n    <tr>\n      <th>2</th>\n      <td>com.tencent.mobileqq</td>\n      <td>a6b745bf24a2c277527716f6f36eb68d</td>\n      <td>377223</td>\n    </tr>\n    <tr>\n      <th>3</th>\n      <td>com.tencent.mobileqq</td>\n      <td>4e3e851c931319a63f2395fa65f126ca</td>\n      <td>389908</td>\n    </tr>\n  </tbody>\n</table>\n</div>"
     },
     "metadata": {},
     "execution_count": 6
    }
   ],
   "source": [
    "df1[[\"pkg\", \"cert\", \"size\"]]"
   ]
  },
  {
   "cell_type": "code",
   "execution_count": 7,
   "metadata": {},
   "outputs": [
    {
     "output_type": "execute_result",
     "data": {
      "text/plain": "                    pkg                              cert    size    users\n1        com.tencent.mm  18c867f0717aa67b2ab7347505ba07ed  238003  7790074\n2  com.tencent.mobileqq  a6b745bf24a2c277527716f6f36eb68d  377223  9890073",
      "text/html": "<div>\n<style scoped>\n    .dataframe tbody tr th:only-of-type {\n        vertical-align: middle;\n    }\n\n    .dataframe tbody tr th {\n        vertical-align: top;\n    }\n\n    .dataframe thead th {\n        text-align: right;\n    }\n</style>\n<table border=\"1\" class=\"dataframe\">\n  <thead>\n    <tr style=\"text-align: right;\">\n      <th></th>\n      <th>pkg</th>\n      <th>cert</th>\n      <th>size</th>\n      <th>users</th>\n    </tr>\n  </thead>\n  <tbody>\n    <tr>\n      <th>1</th>\n      <td>com.tencent.mm</td>\n      <td>18c867f0717aa67b2ab7347505ba07ed</td>\n      <td>238003</td>\n      <td>7790074</td>\n    </tr>\n    <tr>\n      <th>2</th>\n      <td>com.tencent.mobileqq</td>\n      <td>a6b745bf24a2c277527716f6f36eb68d</td>\n      <td>377223</td>\n      <td>9890073</td>\n    </tr>\n  </tbody>\n</table>\n</div>"
     },
     "metadata": {},
     "execution_count": 7
    }
   ],
   "source": [
    "df1.loc[1:2]"
   ]
  },
  {
   "cell_type": "code",
   "execution_count": 8,
   "metadata": {},
   "outputs": [
    {
     "output_type": "execute_result",
     "data": {
      "text/plain": "              pkg                              cert    size    users\n1  com.tencent.mm  18c867f0717aa67b2ab7347505ba07ed  238003  7790074",
      "text/html": "<div>\n<style scoped>\n    .dataframe tbody tr th:only-of-type {\n        vertical-align: middle;\n    }\n\n    .dataframe tbody tr th {\n        vertical-align: top;\n    }\n\n    .dataframe thead th {\n        text-align: right;\n    }\n</style>\n<table border=\"1\" class=\"dataframe\">\n  <thead>\n    <tr style=\"text-align: right;\">\n      <th></th>\n      <th>pkg</th>\n      <th>cert</th>\n      <th>size</th>\n      <th>users</th>\n    </tr>\n  </thead>\n  <tbody>\n    <tr>\n      <th>1</th>\n      <td>com.tencent.mm</td>\n      <td>18c867f0717aa67b2ab7347505ba07ed</td>\n      <td>238003</td>\n      <td>7790074</td>\n    </tr>\n  </tbody>\n</table>\n</div>"
     },
     "metadata": {},
     "execution_count": 8
    }
   ],
   "source": [
    "df1.iloc[1:2]"
   ]
  },
  {
   "cell_type": "code",
   "execution_count": 9,
   "metadata": {},
   "outputs": [
    {
     "output_type": "execute_result",
     "data": {
      "text/plain": "              pkg                              cert    size    users\n1  com.tencent.mm  18c867f0717aa67b2ab7347505ba07ed  238003  7790074",
      "text/html": "<div>\n<style scoped>\n    .dataframe tbody tr th:only-of-type {\n        vertical-align: middle;\n    }\n\n    .dataframe tbody tr th {\n        vertical-align: top;\n    }\n\n    .dataframe thead th {\n        text-align: right;\n    }\n</style>\n<table border=\"1\" class=\"dataframe\">\n  <thead>\n    <tr style=\"text-align: right;\">\n      <th></th>\n      <th>pkg</th>\n      <th>cert</th>\n      <th>size</th>\n      <th>users</th>\n    </tr>\n  </thead>\n  <tbody>\n    <tr>\n      <th>1</th>\n      <td>com.tencent.mm</td>\n      <td>18c867f0717aa67b2ab7347505ba07ed</td>\n      <td>238003</td>\n      <td>7790074</td>\n    </tr>\n  </tbody>\n</table>\n</div>"
     },
     "metadata": {},
     "execution_count": 9
    }
   ],
   "source": [
    "df1[1:2]"
   ]
  },
  {
   "cell_type": "code",
   "execution_count": 10,
   "metadata": {},
   "outputs": [
    {
     "output_type": "execute_result",
     "data": {
      "text/plain": "              pkg                              cert\n1  com.tencent.mm  18c867f0717aa67b2ab7347505ba07ed",
      "text/html": "<div>\n<style scoped>\n    .dataframe tbody tr th:only-of-type {\n        vertical-align: middle;\n    }\n\n    .dataframe tbody tr th {\n        vertical-align: top;\n    }\n\n    .dataframe thead th {\n        text-align: right;\n    }\n</style>\n<table border=\"1\" class=\"dataframe\">\n  <thead>\n    <tr style=\"text-align: right;\">\n      <th></th>\n      <th>pkg</th>\n      <th>cert</th>\n    </tr>\n  </thead>\n  <tbody>\n    <tr>\n      <th>1</th>\n      <td>com.tencent.mm</td>\n      <td>18c867f0717aa67b2ab7347505ba07ed</td>\n    </tr>\n  </tbody>\n</table>\n</div>"
     },
     "metadata": {},
     "execution_count": 10
    }
   ],
   "source": [
    "df1[1:2][[\"pkg\", \"cert\"]]"
   ]
  },
  {
   "cell_type": "code",
   "execution_count": 11,
   "metadata": {},
   "outputs": [
    {
     "output_type": "execute_result",
     "data": {
      "text/plain": "              pkg                              cert\n1  com.tencent.mm  18c867f0717aa67b2ab7347505ba07ed",
      "text/html": "<div>\n<style scoped>\n    .dataframe tbody tr th:only-of-type {\n        vertical-align: middle;\n    }\n\n    .dataframe tbody tr th {\n        vertical-align: top;\n    }\n\n    .dataframe thead th {\n        text-align: right;\n    }\n</style>\n<table border=\"1\" class=\"dataframe\">\n  <thead>\n    <tr style=\"text-align: right;\">\n      <th></th>\n      <th>pkg</th>\n      <th>cert</th>\n    </tr>\n  </thead>\n  <tbody>\n    <tr>\n      <th>1</th>\n      <td>com.tencent.mm</td>\n      <td>18c867f0717aa67b2ab7347505ba07ed</td>\n    </tr>\n  </tbody>\n</table>\n</div>"
     },
     "metadata": {},
     "execution_count": 11
    }
   ],
   "source": [
    "df1.iloc[1:2, 0:2]"
   ]
  },
  {
   "cell_type": "code",
   "execution_count": 12,
   "metadata": {},
   "outputs": [
    {
     "output_type": "execute_result",
     "data": {
      "text/plain": "                    pkg                              cert\n1        com.tencent.mm  18c867f0717aa67b2ab7347505ba07ed\n2  com.tencent.mobileqq  a6b745bf24a2c277527716f6f36eb68d",
      "text/html": "<div>\n<style scoped>\n    .dataframe tbody tr th:only-of-type {\n        vertical-align: middle;\n    }\n\n    .dataframe tbody tr th {\n        vertical-align: top;\n    }\n\n    .dataframe thead th {\n        text-align: right;\n    }\n</style>\n<table border=\"1\" class=\"dataframe\">\n  <thead>\n    <tr style=\"text-align: right;\">\n      <th></th>\n      <th>pkg</th>\n      <th>cert</th>\n    </tr>\n  </thead>\n  <tbody>\n    <tr>\n      <th>1</th>\n      <td>com.tencent.mm</td>\n      <td>18c867f0717aa67b2ab7347505ba07ed</td>\n    </tr>\n    <tr>\n      <th>2</th>\n      <td>com.tencent.mobileqq</td>\n      <td>a6b745bf24a2c277527716f6f36eb68d</td>\n    </tr>\n  </tbody>\n</table>\n</div>"
     },
     "metadata": {},
     "execution_count": 12
    }
   ],
   "source": [
    "df1.loc[1:2, (\"pkg\", \"cert\")]"
   ]
  },
  {
   "cell_type": "markdown",
   "metadata": {},
   "source": [
    "## 数据拼接"
   ]
  },
  {
   "cell_type": "code",
   "execution_count": 13,
   "metadata": {},
   "outputs": [
    {
     "output_type": "execute_result",
     "data": {
      "text/plain": "                    pkg                              cert    size    users\n0        com.tencent.mm  18c867f0717aa67b2ab7347505ba07ed  231234  3790371\n1        com.tencent.mm  18c867f0717aa67b2ab7347505ba07ed  238003  7790074\n2  com.tencent.mobileqq  a6b745bf24a2c277527716f6f36eb68d  377223  9890073\n3  com.tencent.mobileqq  4e3e851c931319a63f2395fa65f126ca  389908       38\n0        com.tencent.mm  18c867f0717aa67b2ab7347505ba07ed  232009  1210371\n1  com.tencent.mobileqq  a6b745bf24a2c277527716f6f36eb68d  377223  9890073",
      "text/html": "<div>\n<style scoped>\n    .dataframe tbody tr th:only-of-type {\n        vertical-align: middle;\n    }\n\n    .dataframe tbody tr th {\n        vertical-align: top;\n    }\n\n    .dataframe thead th {\n        text-align: right;\n    }\n</style>\n<table border=\"1\" class=\"dataframe\">\n  <thead>\n    <tr style=\"text-align: right;\">\n      <th></th>\n      <th>pkg</th>\n      <th>cert</th>\n      <th>size</th>\n      <th>users</th>\n    </tr>\n  </thead>\n  <tbody>\n    <tr>\n      <th>0</th>\n      <td>com.tencent.mm</td>\n      <td>18c867f0717aa67b2ab7347505ba07ed</td>\n      <td>231234</td>\n      <td>3790371</td>\n    </tr>\n    <tr>\n      <th>1</th>\n      <td>com.tencent.mm</td>\n      <td>18c867f0717aa67b2ab7347505ba07ed</td>\n      <td>238003</td>\n      <td>7790074</td>\n    </tr>\n    <tr>\n      <th>2</th>\n      <td>com.tencent.mobileqq</td>\n      <td>a6b745bf24a2c277527716f6f36eb68d</td>\n      <td>377223</td>\n      <td>9890073</td>\n    </tr>\n    <tr>\n      <th>3</th>\n      <td>com.tencent.mobileqq</td>\n      <td>4e3e851c931319a63f2395fa65f126ca</td>\n      <td>389908</td>\n      <td>38</td>\n    </tr>\n    <tr>\n      <th>0</th>\n      <td>com.tencent.mm</td>\n      <td>18c867f0717aa67b2ab7347505ba07ed</td>\n      <td>232009</td>\n      <td>1210371</td>\n    </tr>\n    <tr>\n      <th>1</th>\n      <td>com.tencent.mobileqq</td>\n      <td>a6b745bf24a2c277527716f6f36eb68d</td>\n      <td>377223</td>\n      <td>9890073</td>\n    </tr>\n  </tbody>\n</table>\n</div>"
     },
     "metadata": {},
     "execution_count": 13
    }
   ],
   "source": [
    "# 拼接\n",
    "df = df1.append(df2)\n",
    "df"
   ]
  },
  {
   "cell_type": "code",
   "execution_count": 14,
   "metadata": {},
   "outputs": [
    {
     "output_type": "execute_result",
     "data": {
      "text/plain": "                    pkg                              cert    size    users\n0        com.tencent.mm  18c867f0717aa67b2ab7347505ba07ed  231234  3790371\n1        com.tencent.mm  18c867f0717aa67b2ab7347505ba07ed  238003  7790074\n2  com.tencent.mobileqq  a6b745bf24a2c277527716f6f36eb68d  377223  9890073\n3  com.tencent.mobileqq  4e3e851c931319a63f2395fa65f126ca  389908       38\n0        com.tencent.mm  18c867f0717aa67b2ab7347505ba07ed  232009  1210371\n1  com.tencent.mobileqq  a6b745bf24a2c277527716f6f36eb68d  377223  9890073",
      "text/html": "<div>\n<style scoped>\n    .dataframe tbody tr th:only-of-type {\n        vertical-align: middle;\n    }\n\n    .dataframe tbody tr th {\n        vertical-align: top;\n    }\n\n    .dataframe thead th {\n        text-align: right;\n    }\n</style>\n<table border=\"1\" class=\"dataframe\">\n  <thead>\n    <tr style=\"text-align: right;\">\n      <th></th>\n      <th>pkg</th>\n      <th>cert</th>\n      <th>size</th>\n      <th>users</th>\n    </tr>\n  </thead>\n  <tbody>\n    <tr>\n      <th>0</th>\n      <td>com.tencent.mm</td>\n      <td>18c867f0717aa67b2ab7347505ba07ed</td>\n      <td>231234</td>\n      <td>3790371</td>\n    </tr>\n    <tr>\n      <th>1</th>\n      <td>com.tencent.mm</td>\n      <td>18c867f0717aa67b2ab7347505ba07ed</td>\n      <td>238003</td>\n      <td>7790074</td>\n    </tr>\n    <tr>\n      <th>2</th>\n      <td>com.tencent.mobileqq</td>\n      <td>a6b745bf24a2c277527716f6f36eb68d</td>\n      <td>377223</td>\n      <td>9890073</td>\n    </tr>\n    <tr>\n      <th>3</th>\n      <td>com.tencent.mobileqq</td>\n      <td>4e3e851c931319a63f2395fa65f126ca</td>\n      <td>389908</td>\n      <td>38</td>\n    </tr>\n    <tr>\n      <th>0</th>\n      <td>com.tencent.mm</td>\n      <td>18c867f0717aa67b2ab7347505ba07ed</td>\n      <td>232009</td>\n      <td>1210371</td>\n    </tr>\n    <tr>\n      <th>1</th>\n      <td>com.tencent.mobileqq</td>\n      <td>a6b745bf24a2c277527716f6f36eb68d</td>\n      <td>377223</td>\n      <td>9890073</td>\n    </tr>\n  </tbody>\n</table>\n</div>"
     },
     "metadata": {},
     "execution_count": 14
    }
   ],
   "source": [
    "# 拼接\n",
    "pd.concat([df1, df2])"
   ]
  },
  {
   "cell_type": "markdown",
   "metadata": {},
   "source": [
    "## 去重"
   ]
  },
  {
   "cell_type": "code",
   "execution_count": 15,
   "metadata": {},
   "outputs": [
    {
     "output_type": "execute_result",
     "data": {
      "text/plain": "                    pkg                              cert    size    users\n0        com.tencent.mm  18c867f0717aa67b2ab7347505ba07ed  231234  3790371\n1        com.tencent.mm  18c867f0717aa67b2ab7347505ba07ed  238003  7790074\n2  com.tencent.mobileqq  a6b745bf24a2c277527716f6f36eb68d  377223  9890073\n3  com.tencent.mobileqq  4e3e851c931319a63f2395fa65f126ca  389908       38\n0        com.tencent.mm  18c867f0717aa67b2ab7347505ba07ed  232009  1210371",
      "text/html": "<div>\n<style scoped>\n    .dataframe tbody tr th:only-of-type {\n        vertical-align: middle;\n    }\n\n    .dataframe tbody tr th {\n        vertical-align: top;\n    }\n\n    .dataframe thead th {\n        text-align: right;\n    }\n</style>\n<table border=\"1\" class=\"dataframe\">\n  <thead>\n    <tr style=\"text-align: right;\">\n      <th></th>\n      <th>pkg</th>\n      <th>cert</th>\n      <th>size</th>\n      <th>users</th>\n    </tr>\n  </thead>\n  <tbody>\n    <tr>\n      <th>0</th>\n      <td>com.tencent.mm</td>\n      <td>18c867f0717aa67b2ab7347505ba07ed</td>\n      <td>231234</td>\n      <td>3790371</td>\n    </tr>\n    <tr>\n      <th>1</th>\n      <td>com.tencent.mm</td>\n      <td>18c867f0717aa67b2ab7347505ba07ed</td>\n      <td>238003</td>\n      <td>7790074</td>\n    </tr>\n    <tr>\n      <th>2</th>\n      <td>com.tencent.mobileqq</td>\n      <td>a6b745bf24a2c277527716f6f36eb68d</td>\n      <td>377223</td>\n      <td>9890073</td>\n    </tr>\n    <tr>\n      <th>3</th>\n      <td>com.tencent.mobileqq</td>\n      <td>4e3e851c931319a63f2395fa65f126ca</td>\n      <td>389908</td>\n      <td>38</td>\n    </tr>\n    <tr>\n      <th>0</th>\n      <td>com.tencent.mm</td>\n      <td>18c867f0717aa67b2ab7347505ba07ed</td>\n      <td>232009</td>\n      <td>1210371</td>\n    </tr>\n  </tbody>\n</table>\n</div>"
     },
     "metadata": {},
     "execution_count": 15
    }
   ],
   "source": [
    "# 去重\n",
    "df = df.drop_duplicates()\n",
    "df"
   ]
  },
  {
   "cell_type": "code",
   "execution_count": 16,
   "metadata": {},
   "outputs": [
    {
     "output_type": "execute_result",
     "data": {
      "text/plain": "                    pkg                              cert    size    users\n0        com.tencent.mm  18c867f0717aa67b2ab7347505ba07ed  231234  3790371\n1        com.tencent.mm  18c867f0717aa67b2ab7347505ba07ed  238003  7790074\n2  com.tencent.mobileqq  a6b745bf24a2c277527716f6f36eb68d  377223  9890073\n3  com.tencent.mobileqq  4e3e851c931319a63f2395fa65f126ca  389908       38\n4        com.tencent.mm  18c867f0717aa67b2ab7347505ba07ed  232009  1210371",
      "text/html": "<div>\n<style scoped>\n    .dataframe tbody tr th:only-of-type {\n        vertical-align: middle;\n    }\n\n    .dataframe tbody tr th {\n        vertical-align: top;\n    }\n\n    .dataframe thead th {\n        text-align: right;\n    }\n</style>\n<table border=\"1\" class=\"dataframe\">\n  <thead>\n    <tr style=\"text-align: right;\">\n      <th></th>\n      <th>pkg</th>\n      <th>cert</th>\n      <th>size</th>\n      <th>users</th>\n    </tr>\n  </thead>\n  <tbody>\n    <tr>\n      <th>0</th>\n      <td>com.tencent.mm</td>\n      <td>18c867f0717aa67b2ab7347505ba07ed</td>\n      <td>231234</td>\n      <td>3790371</td>\n    </tr>\n    <tr>\n      <th>1</th>\n      <td>com.tencent.mm</td>\n      <td>18c867f0717aa67b2ab7347505ba07ed</td>\n      <td>238003</td>\n      <td>7790074</td>\n    </tr>\n    <tr>\n      <th>2</th>\n      <td>com.tencent.mobileqq</td>\n      <td>a6b745bf24a2c277527716f6f36eb68d</td>\n      <td>377223</td>\n      <td>9890073</td>\n    </tr>\n    <tr>\n      <th>3</th>\n      <td>com.tencent.mobileqq</td>\n      <td>4e3e851c931319a63f2395fa65f126ca</td>\n      <td>389908</td>\n      <td>38</td>\n    </tr>\n    <tr>\n      <th>4</th>\n      <td>com.tencent.mm</td>\n      <td>18c867f0717aa67b2ab7347505ba07ed</td>\n      <td>232009</td>\n      <td>1210371</td>\n    </tr>\n  </tbody>\n</table>\n</div>"
     },
     "metadata": {},
     "execution_count": 16
    }
   ],
   "source": [
    "# 重置索引（默认会增加\"index\"列，drop=True则去掉该列）\n",
    "df = df.reset_index(drop=True)\n",
    "df"
   ]
  },
  {
   "cell_type": "code",
   "execution_count": 17,
   "metadata": {},
   "outputs": [
    {
     "output_type": "execute_result",
     "data": {
      "text/plain": "                        size     users\npkg                                   \ncom.tencent.mm        701246  12790816\ncom.tencent.mobileqq  767131   9890111",
      "text/html": "<div>\n<style scoped>\n    .dataframe tbody tr th:only-of-type {\n        vertical-align: middle;\n    }\n\n    .dataframe tbody tr th {\n        vertical-align: top;\n    }\n\n    .dataframe thead th {\n        text-align: right;\n    }\n</style>\n<table border=\"1\" class=\"dataframe\">\n  <thead>\n    <tr style=\"text-align: right;\">\n      <th></th>\n      <th>size</th>\n      <th>users</th>\n    </tr>\n    <tr>\n      <th>pkg</th>\n      <th></th>\n      <th></th>\n    </tr>\n  </thead>\n  <tbody>\n    <tr>\n      <th>com.tencent.mm</th>\n      <td>701246</td>\n      <td>12790816</td>\n    </tr>\n    <tr>\n      <th>com.tencent.mobileqq</th>\n      <td>767131</td>\n      <td>9890111</td>\n    </tr>\n  </tbody>\n</table>\n</div>"
     },
     "metadata": {},
     "execution_count": 17
    }
   ],
   "source": [
    "df.groupby(by=\"pkg\").sum()"
   ]
  },
  {
   "cell_type": "code",
   "execution_count": 18,
   "metadata": {},
   "outputs": [
    {
     "output_type": "execute_result",
     "data": {
      "text/plain": "                      cert  size  users\npkg                                    \ncom.tencent.mm           3     3      3\ncom.tencent.mobileqq     2     2      2",
      "text/html": "<div>\n<style scoped>\n    .dataframe tbody tr th:only-of-type {\n        vertical-align: middle;\n    }\n\n    .dataframe tbody tr th {\n        vertical-align: top;\n    }\n\n    .dataframe thead th {\n        text-align: right;\n    }\n</style>\n<table border=\"1\" class=\"dataframe\">\n  <thead>\n    <tr style=\"text-align: right;\">\n      <th></th>\n      <th>cert</th>\n      <th>size</th>\n      <th>users</th>\n    </tr>\n    <tr>\n      <th>pkg</th>\n      <th></th>\n      <th></th>\n      <th></th>\n    </tr>\n  </thead>\n  <tbody>\n    <tr>\n      <th>com.tencent.mm</th>\n      <td>3</td>\n      <td>3</td>\n      <td>3</td>\n    </tr>\n    <tr>\n      <th>com.tencent.mobileqq</th>\n      <td>2</td>\n      <td>2</td>\n      <td>2</td>\n    </tr>\n  </tbody>\n</table>\n</div>"
     },
     "metadata": {},
     "execution_count": 18
    }
   ],
   "source": [
    "df.groupby(by=\"pkg\").count()"
   ]
  },
  {
   "cell_type": "code",
   "execution_count": 19,
   "metadata": {},
   "outputs": [
    {
     "output_type": "execute_result",
     "data": {
      "text/plain": "                                                         size     users\npkg                  cert                                              \ncom.tencent.mm       18c867f0717aa67b2ab7347505ba07ed  701246  12790816\ncom.tencent.mobileqq 4e3e851c931319a63f2395fa65f126ca  389908        38\n                     a6b745bf24a2c277527716f6f36eb68d  377223   9890073",
      "text/html": "<div>\n<style scoped>\n    .dataframe tbody tr th:only-of-type {\n        vertical-align: middle;\n    }\n\n    .dataframe tbody tr th {\n        vertical-align: top;\n    }\n\n    .dataframe thead th {\n        text-align: right;\n    }\n</style>\n<table border=\"1\" class=\"dataframe\">\n  <thead>\n    <tr style=\"text-align: right;\">\n      <th></th>\n      <th></th>\n      <th>size</th>\n      <th>users</th>\n    </tr>\n    <tr>\n      <th>pkg</th>\n      <th>cert</th>\n      <th></th>\n      <th></th>\n    </tr>\n  </thead>\n  <tbody>\n    <tr>\n      <th>com.tencent.mm</th>\n      <th>18c867f0717aa67b2ab7347505ba07ed</th>\n      <td>701246</td>\n      <td>12790816</td>\n    </tr>\n    <tr>\n      <th rowspan=\"2\" valign=\"top\">com.tencent.mobileqq</th>\n      <th>4e3e851c931319a63f2395fa65f126ca</th>\n      <td>389908</td>\n      <td>38</td>\n    </tr>\n    <tr>\n      <th>a6b745bf24a2c277527716f6f36eb68d</th>\n      <td>377223</td>\n      <td>9890073</td>\n    </tr>\n  </tbody>\n</table>\n</div>"
     },
     "metadata": {},
     "execution_count": 19
    }
   ],
   "source": [
    "ser = df.groupby(by=[\"pkg\", \"cert\"]).sum()\n",
    "ser"
   ]
  },
  {
   "cell_type": "code",
   "execution_count": 20,
   "metadata": {},
   "outputs": [
    {
     "output_type": "execute_result",
     "data": {
      "text/plain": "                                    size    users\ncert                                             \n4e3e851c931319a63f2395fa65f126ca  389908       38\na6b745bf24a2c277527716f6f36eb68d  377223  9890073",
      "text/html": "<div>\n<style scoped>\n    .dataframe tbody tr th:only-of-type {\n        vertical-align: middle;\n    }\n\n    .dataframe tbody tr th {\n        vertical-align: top;\n    }\n\n    .dataframe thead th {\n        text-align: right;\n    }\n</style>\n<table border=\"1\" class=\"dataframe\">\n  <thead>\n    <tr style=\"text-align: right;\">\n      <th></th>\n      <th>size</th>\n      <th>users</th>\n    </tr>\n    <tr>\n      <th>cert</th>\n      <th></th>\n      <th></th>\n    </tr>\n  </thead>\n  <tbody>\n    <tr>\n      <th>4e3e851c931319a63f2395fa65f126ca</th>\n      <td>389908</td>\n      <td>38</td>\n    </tr>\n    <tr>\n      <th>a6b745bf24a2c277527716f6f36eb68d</th>\n      <td>377223</td>\n      <td>9890073</td>\n    </tr>\n  </tbody>\n</table>\n</div>"
     },
     "metadata": {},
     "execution_count": 20
    }
   ],
   "source": [
    "ser.loc[\"com.tencent.mobileqq\"]"
   ]
  },
  {
   "cell_type": "code",
   "execution_count": 21,
   "metadata": {},
   "outputs": [
    {
     "output_type": "execute_result",
     "data": {
      "text/plain": "size      377223\nusers    9890073\nName: (com.tencent.mobileqq, a6b745bf24a2c277527716f6f36eb68d), dtype: int64"
     },
     "metadata": {},
     "execution_count": 21
    }
   ],
   "source": [
    "ser.loc[\"com.tencent.mobileqq\", \"a6b745bf24a2c277527716f6f36eb68d\"]"
   ]
  },
  {
   "cell_type": "code",
   "execution_count": 22,
   "metadata": {},
   "outputs": [
    {
     "output_type": "execute_result",
     "data": {
      "text/plain": "9890073"
     },
     "metadata": {},
     "execution_count": 22
    }
   ],
   "source": [
    "ser.loc[\"com.tencent.mobileqq\", \"a6b745bf24a2c277527716f6f36eb68d\"][\"users\"]"
   ]
  },
  {
   "cell_type": "code",
   "execution_count": 23,
   "metadata": {},
   "outputs": [
    {
     "output_type": "execute_result",
     "data": {
      "text/plain": "pkg\ncom.tencent.mm          12790816\ncom.tencent.mobileqq     9890111\nName: users, dtype: int64"
     },
     "metadata": {},
     "execution_count": 23
    }
   ],
   "source": [
    "ser = df.groupby(by=\"pkg\")[\"users\"].sum()\n",
    "ser"
   ]
  },
  {
   "cell_type": "code",
   "execution_count": 24,
   "metadata": {},
   "outputs": [
    {
     "output_type": "execute_result",
     "data": {
      "text/plain": "12790816"
     },
     "metadata": {},
     "execution_count": 24
    }
   ],
   "source": [
    "ser[\"com.tencent.mm\"]"
   ]
  },
  {
   "cell_type": "code",
   "execution_count": 25,
   "metadata": {},
   "outputs": [
    {
     "output_type": "execute_result",
     "data": {
      "text/plain": "                      count          mean           std        min         25%        50%         75%        max\npkg                                                                                                             \ncom.tencent.mm          3.0  4.263605e+06  3.315281e+06  1210371.0  2500371.00  3790371.0  5790222.50  7790074.0\ncom.tencent.mobileqq    2.0  4.945056e+06  6.993311e+06       38.0  2472546.75  4945055.5  7417564.25  9890073.0",
      "text/html": "<div>\n<style scoped>\n    .dataframe tbody tr th:only-of-type {\n        vertical-align: middle;\n    }\n\n    .dataframe tbody tr th {\n        vertical-align: top;\n    }\n\n    .dataframe thead th {\n        text-align: right;\n    }\n</style>\n<table border=\"1\" class=\"dataframe\">\n  <thead>\n    <tr style=\"text-align: right;\">\n      <th></th>\n      <th>count</th>\n      <th>mean</th>\n      <th>std</th>\n      <th>min</th>\n      <th>25%</th>\n      <th>50%</th>\n      <th>75%</th>\n      <th>max</th>\n    </tr>\n    <tr>\n      <th>pkg</th>\n      <th></th>\n      <th></th>\n      <th></th>\n      <th></th>\n      <th></th>\n      <th></th>\n      <th></th>\n      <th></th>\n    </tr>\n  </thead>\n  <tbody>\n    <tr>\n      <th>com.tencent.mm</th>\n      <td>3.0</td>\n      <td>4.263605e+06</td>\n      <td>3.315281e+06</td>\n      <td>1210371.0</td>\n      <td>2500371.00</td>\n      <td>3790371.0</td>\n      <td>5790222.50</td>\n      <td>7790074.0</td>\n    </tr>\n    <tr>\n      <th>com.tencent.mobileqq</th>\n      <td>2.0</td>\n      <td>4.945056e+06</td>\n      <td>6.993311e+06</td>\n      <td>38.0</td>\n      <td>2472546.75</td>\n      <td>4945055.5</td>\n      <td>7417564.25</td>\n      <td>9890073.0</td>\n    </tr>\n  </tbody>\n</table>\n</div>"
     },
     "metadata": {},
     "execution_count": 25
    }
   ],
   "source": [
    "# 累计\n",
    "df.groupby(by=\"pkg\")[\"users\"].describe()"
   ]
  },
  {
   "cell_type": "code",
   "execution_count": 26,
   "metadata": {},
   "outputs": [
    {
     "output_type": "execute_result",
     "data": {
      "text/plain": "                              mean           std\npkg                                             \ncom.tencent.mm        4.263605e+06  3.315281e+06\ncom.tencent.mobileqq  4.945056e+06  6.993311e+06",
      "text/html": "<div>\n<style scoped>\n    .dataframe tbody tr th:only-of-type {\n        vertical-align: middle;\n    }\n\n    .dataframe tbody tr th {\n        vertical-align: top;\n    }\n\n    .dataframe thead th {\n        text-align: right;\n    }\n</style>\n<table border=\"1\" class=\"dataframe\">\n  <thead>\n    <tr style=\"text-align: right;\">\n      <th></th>\n      <th>mean</th>\n      <th>std</th>\n    </tr>\n    <tr>\n      <th>pkg</th>\n      <th></th>\n      <th></th>\n    </tr>\n  </thead>\n  <tbody>\n    <tr>\n      <th>com.tencent.mm</th>\n      <td>4.263605e+06</td>\n      <td>3.315281e+06</td>\n    </tr>\n    <tr>\n      <th>com.tencent.mobileqq</th>\n      <td>4.945056e+06</td>\n      <td>6.993311e+06</td>\n    </tr>\n  </tbody>\n</table>\n</div>"
     },
     "metadata": {},
     "execution_count": 26
    }
   ],
   "source": [
    "df.groupby(by=\"pkg\")[\"users\"].describe()[[\"mean\", \"std\"]]"
   ]
  },
  {
   "cell_type": "code",
   "execution_count": 27,
   "metadata": {},
   "outputs": [
    {
     "output_type": "execute_result",
     "data": {
      "text/plain": "                    pkg                              cert    size    users\n0  com.tencent.mobileqq  a6b745bf24a2c277527716f6f36eb68d  377223  9890073",
      "text/html": "<div>\n<style scoped>\n    .dataframe tbody tr th:only-of-type {\n        vertical-align: middle;\n    }\n\n    .dataframe tbody tr th {\n        vertical-align: top;\n    }\n\n    .dataframe thead th {\n        text-align: right;\n    }\n</style>\n<table border=\"1\" class=\"dataframe\">\n  <thead>\n    <tr style=\"text-align: right;\">\n      <th></th>\n      <th>pkg</th>\n      <th>cert</th>\n      <th>size</th>\n      <th>users</th>\n    </tr>\n  </thead>\n  <tbody>\n    <tr>\n      <th>0</th>\n      <td>com.tencent.mobileqq</td>\n      <td>a6b745bf24a2c277527716f6f36eb68d</td>\n      <td>377223</td>\n      <td>9890073</td>\n    </tr>\n  </tbody>\n</table>\n</div>"
     },
     "metadata": {},
     "execution_count": 27
    }
   ],
   "source": [
    "# 求交集\n",
    "df1.merge(df2, how=\"inner\")"
   ]
  },
  {
   "cell_type": "code",
   "execution_count": 28,
   "metadata": {},
   "outputs": [
    {
     "output_type": "execute_result",
     "data": {
      "text/plain": "                    pkg                              cert    size    users appstore\n0        com.tencent.mm  18c867f0717aa67b2ab7347505ba07ed  231234  3790371  tencent\n1        com.tencent.mm  18c867f0717aa67b2ab7347505ba07ed  238003  7790074    baidu\n2  com.tencent.mobileqq  a6b745bf24a2c277527716f6f36eb68d  377223  9890073  tencent",
      "text/html": "<div>\n<style scoped>\n    .dataframe tbody tr th:only-of-type {\n        vertical-align: middle;\n    }\n\n    .dataframe tbody tr th {\n        vertical-align: top;\n    }\n\n    .dataframe thead th {\n        text-align: right;\n    }\n</style>\n<table border=\"1\" class=\"dataframe\">\n  <thead>\n    <tr style=\"text-align: right;\">\n      <th></th>\n      <th>pkg</th>\n      <th>cert</th>\n      <th>size</th>\n      <th>users</th>\n      <th>appstore</th>\n    </tr>\n  </thead>\n  <tbody>\n    <tr>\n      <th>0</th>\n      <td>com.tencent.mm</td>\n      <td>18c867f0717aa67b2ab7347505ba07ed</td>\n      <td>231234</td>\n      <td>3790371</td>\n      <td>tencent</td>\n    </tr>\n    <tr>\n      <th>1</th>\n      <td>com.tencent.mm</td>\n      <td>18c867f0717aa67b2ab7347505ba07ed</td>\n      <td>238003</td>\n      <td>7790074</td>\n      <td>baidu</td>\n    </tr>\n    <tr>\n      <th>2</th>\n      <td>com.tencent.mobileqq</td>\n      <td>a6b745bf24a2c277527716f6f36eb68d</td>\n      <td>377223</td>\n      <td>9890073</td>\n      <td>tencent</td>\n    </tr>\n  </tbody>\n</table>\n</div>"
     },
     "metadata": {},
     "execution_count": 28
    }
   ],
   "source": [
    "# 关联两张不同列的表\n",
    "df1.merge(df3, on=[\"pkg\", \"cert\", \"size\"], how=\"inner\")"
   ]
  },
  {
   "cell_type": "code",
   "execution_count": 29,
   "metadata": {},
   "outputs": [
    {
     "output_type": "execute_result",
     "data": {
      "text/plain": "                    pkg                              cert    size    users appstore\n0        com.tencent.mm  18c867f0717aa67b2ab7347505ba07ed  231234  3790371  tencent\n1        com.tencent.mm  18c867f0717aa67b2ab7347505ba07ed  238003  7790074    baidu\n2  com.tencent.mobileqq  a6b745bf24a2c277527716f6f36eb68d  377223  9890073  tencent",
      "text/html": "<div>\n<style scoped>\n    .dataframe tbody tr th:only-of-type {\n        vertical-align: middle;\n    }\n\n    .dataframe tbody tr th {\n        vertical-align: top;\n    }\n\n    .dataframe thead th {\n        text-align: right;\n    }\n</style>\n<table border=\"1\" class=\"dataframe\">\n  <thead>\n    <tr style=\"text-align: right;\">\n      <th></th>\n      <th>pkg</th>\n      <th>cert</th>\n      <th>size</th>\n      <th>users</th>\n      <th>appstore</th>\n    </tr>\n  </thead>\n  <tbody>\n    <tr>\n      <th>0</th>\n      <td>com.tencent.mm</td>\n      <td>18c867f0717aa67b2ab7347505ba07ed</td>\n      <td>231234</td>\n      <td>3790371</td>\n      <td>tencent</td>\n    </tr>\n    <tr>\n      <th>1</th>\n      <td>com.tencent.mm</td>\n      <td>18c867f0717aa67b2ab7347505ba07ed</td>\n      <td>238003</td>\n      <td>7790074</td>\n      <td>baidu</td>\n    </tr>\n    <tr>\n      <th>2</th>\n      <td>com.tencent.mobileqq</td>\n      <td>a6b745bf24a2c277527716f6f36eb68d</td>\n      <td>377223</td>\n      <td>9890073</td>\n      <td>tencent</td>\n    </tr>\n  </tbody>\n</table>\n</div>"
     },
     "metadata": {},
     "execution_count": 29
    }
   ],
   "source": [
    "df1.merge(df3, left_on=[\"pkg\", \"cert\", \"size\"], right_on=[\"pkg\", \"cert\", \"size\"], how=\"inner\")"
   ]
  },
  {
   "cell_type": "code",
   "execution_count": 30,
   "metadata": {},
   "outputs": [
    {
     "output_type": "execute_result",
     "data": {
      "text/plain": "                    pkg                              cert    size    users appstore\n0        com.tencent.mm  18c867f0717aa67b2ab7347505ba07ed  231234  3790371  tencent\n1        com.tencent.mm  18c867f0717aa67b2ab7347505ba07ed  238003  7790074    baidu\n2  com.tencent.mobileqq  a6b745bf24a2c277527716f6f36eb68d  377223  9890073  tencent\n3  com.tencent.mobileqq  4e3e851c931319a63f2395fa65f126ca  389908       38      NaN",
      "text/html": "<div>\n<style scoped>\n    .dataframe tbody tr th:only-of-type {\n        vertical-align: middle;\n    }\n\n    .dataframe tbody tr th {\n        vertical-align: top;\n    }\n\n    .dataframe thead th {\n        text-align: right;\n    }\n</style>\n<table border=\"1\" class=\"dataframe\">\n  <thead>\n    <tr style=\"text-align: right;\">\n      <th></th>\n      <th>pkg</th>\n      <th>cert</th>\n      <th>size</th>\n      <th>users</th>\n      <th>appstore</th>\n    </tr>\n  </thead>\n  <tbody>\n    <tr>\n      <th>0</th>\n      <td>com.tencent.mm</td>\n      <td>18c867f0717aa67b2ab7347505ba07ed</td>\n      <td>231234</td>\n      <td>3790371</td>\n      <td>tencent</td>\n    </tr>\n    <tr>\n      <th>1</th>\n      <td>com.tencent.mm</td>\n      <td>18c867f0717aa67b2ab7347505ba07ed</td>\n      <td>238003</td>\n      <td>7790074</td>\n      <td>baidu</td>\n    </tr>\n    <tr>\n      <th>2</th>\n      <td>com.tencent.mobileqq</td>\n      <td>a6b745bf24a2c277527716f6f36eb68d</td>\n      <td>377223</td>\n      <td>9890073</td>\n      <td>tencent</td>\n    </tr>\n    <tr>\n      <th>3</th>\n      <td>com.tencent.mobileqq</td>\n      <td>4e3e851c931319a63f2395fa65f126ca</td>\n      <td>389908</td>\n      <td>38</td>\n      <td>NaN</td>\n    </tr>\n  </tbody>\n</table>\n</div>"
     },
     "metadata": {},
     "execution_count": 30
    }
   ],
   "source": [
    "df1.merge(df3, on=[\"pkg\", \"cert\", \"size\"], how=\"left\")"
   ]
  },
  {
   "cell_type": "code",
   "execution_count": 31,
   "metadata": {},
   "outputs": [
    {
     "output_type": "execute_result",
     "data": {
      "text/plain": "                    pkg                              cert    size      users appstore\n0        com.tencent.mm  18c867f0717aa67b2ab7347505ba07ed  231234  3790371.0  tencent\n1        com.tencent.mm  18c867f0717aa67b2ab7347505ba07ed  238003  7790074.0    baidu\n2  com.tencent.mobileqq  a6b745bf24a2c277527716f6f36eb68d  377223  9890073.0  tencent\n3     com.qihoo.360safe  33abb11bf7e4072cc70cbd034078e72d  556226        NaN    qihoo",
      "text/html": "<div>\n<style scoped>\n    .dataframe tbody tr th:only-of-type {\n        vertical-align: middle;\n    }\n\n    .dataframe tbody tr th {\n        vertical-align: top;\n    }\n\n    .dataframe thead th {\n        text-align: right;\n    }\n</style>\n<table border=\"1\" class=\"dataframe\">\n  <thead>\n    <tr style=\"text-align: right;\">\n      <th></th>\n      <th>pkg</th>\n      <th>cert</th>\n      <th>size</th>\n      <th>users</th>\n      <th>appstore</th>\n    </tr>\n  </thead>\n  <tbody>\n    <tr>\n      <th>0</th>\n      <td>com.tencent.mm</td>\n      <td>18c867f0717aa67b2ab7347505ba07ed</td>\n      <td>231234</td>\n      <td>3790371.0</td>\n      <td>tencent</td>\n    </tr>\n    <tr>\n      <th>1</th>\n      <td>com.tencent.mm</td>\n      <td>18c867f0717aa67b2ab7347505ba07ed</td>\n      <td>238003</td>\n      <td>7790074.0</td>\n      <td>baidu</td>\n    </tr>\n    <tr>\n      <th>2</th>\n      <td>com.tencent.mobileqq</td>\n      <td>a6b745bf24a2c277527716f6f36eb68d</td>\n      <td>377223</td>\n      <td>9890073.0</td>\n      <td>tencent</td>\n    </tr>\n    <tr>\n      <th>3</th>\n      <td>com.qihoo.360safe</td>\n      <td>33abb11bf7e4072cc70cbd034078e72d</td>\n      <td>556226</td>\n      <td>NaN</td>\n      <td>qihoo</td>\n    </tr>\n  </tbody>\n</table>\n</div>"
     },
     "metadata": {},
     "execution_count": 31
    }
   ],
   "source": [
    "df1.merge(df3, on=[\"pkg\", \"cert\", \"size\"], how=\"right\")"
   ]
  },
  {
   "cell_type": "code",
   "execution_count": 32,
   "metadata": {},
   "outputs": [
    {
     "output_type": "execute_result",
     "data": {
      "text/plain": "                    pkg                              cert    size      users appstore\n0        com.tencent.mm  18c867f0717aa67b2ab7347505ba07ed  231234  3790371.0  tencent\n1        com.tencent.mm  18c867f0717aa67b2ab7347505ba07ed  238003  7790074.0    baidu\n2  com.tencent.mobileqq  a6b745bf24a2c277527716f6f36eb68d  377223  9890073.0  tencent\n3  com.tencent.mobileqq  4e3e851c931319a63f2395fa65f126ca  389908       38.0      NaN\n4     com.qihoo.360safe  33abb11bf7e4072cc70cbd034078e72d  556226        NaN    qihoo",
      "text/html": "<div>\n<style scoped>\n    .dataframe tbody tr th:only-of-type {\n        vertical-align: middle;\n    }\n\n    .dataframe tbody tr th {\n        vertical-align: top;\n    }\n\n    .dataframe thead th {\n        text-align: right;\n    }\n</style>\n<table border=\"1\" class=\"dataframe\">\n  <thead>\n    <tr style=\"text-align: right;\">\n      <th></th>\n      <th>pkg</th>\n      <th>cert</th>\n      <th>size</th>\n      <th>users</th>\n      <th>appstore</th>\n    </tr>\n  </thead>\n  <tbody>\n    <tr>\n      <th>0</th>\n      <td>com.tencent.mm</td>\n      <td>18c867f0717aa67b2ab7347505ba07ed</td>\n      <td>231234</td>\n      <td>3790371.0</td>\n      <td>tencent</td>\n    </tr>\n    <tr>\n      <th>1</th>\n      <td>com.tencent.mm</td>\n      <td>18c867f0717aa67b2ab7347505ba07ed</td>\n      <td>238003</td>\n      <td>7790074.0</td>\n      <td>baidu</td>\n    </tr>\n    <tr>\n      <th>2</th>\n      <td>com.tencent.mobileqq</td>\n      <td>a6b745bf24a2c277527716f6f36eb68d</td>\n      <td>377223</td>\n      <td>9890073.0</td>\n      <td>tencent</td>\n    </tr>\n    <tr>\n      <th>3</th>\n      <td>com.tencent.mobileqq</td>\n      <td>4e3e851c931319a63f2395fa65f126ca</td>\n      <td>389908</td>\n      <td>38.0</td>\n      <td>NaN</td>\n    </tr>\n    <tr>\n      <th>4</th>\n      <td>com.qihoo.360safe</td>\n      <td>33abb11bf7e4072cc70cbd034078e72d</td>\n      <td>556226</td>\n      <td>NaN</td>\n      <td>qihoo</td>\n    </tr>\n  </tbody>\n</table>\n</div>"
     },
     "metadata": {},
     "execution_count": 32
    }
   ],
   "source": [
    "df13_outer = df1.merge(df3, on=[\"pkg\", \"cert\", \"size\"], how=\"outer\")\n",
    "df13_outer"
   ]
  },
  {
   "cell_type": "code",
   "execution_count": 33,
   "metadata": {},
   "outputs": [
    {
     "output_type": "execute_result",
     "data": {
      "text/plain": "pkg         False\ncert        False\nsize        False\nusers        True\nappstore     True\ndtype: bool"
     },
     "metadata": {},
     "execution_count": 33
    }
   ],
   "source": [
    "df13_outer.isnull().any()"
   ]
  },
  {
   "cell_type": "code",
   "execution_count": 34,
   "metadata": {},
   "outputs": [
    {
     "output_type": "execute_result",
     "data": {
      "text/plain": "   pkg cert  size  users appstore\n0  NaN  NaN   NaN    NaN      NaN\n1  NaN  NaN   NaN    NaN      NaN\n2  NaN  NaN   NaN    NaN      NaN\n3  NaN  NaN   NaN    NaN      NaN\n4  NaN  NaN   NaN    NaN      NaN",
      "text/html": "<div>\n<style scoped>\n    .dataframe tbody tr th:only-of-type {\n        vertical-align: middle;\n    }\n\n    .dataframe tbody tr th {\n        vertical-align: top;\n    }\n\n    .dataframe thead th {\n        text-align: right;\n    }\n</style>\n<table border=\"1\" class=\"dataframe\">\n  <thead>\n    <tr style=\"text-align: right;\">\n      <th></th>\n      <th>pkg</th>\n      <th>cert</th>\n      <th>size</th>\n      <th>users</th>\n      <th>appstore</th>\n    </tr>\n  </thead>\n  <tbody>\n    <tr>\n      <th>0</th>\n      <td>NaN</td>\n      <td>NaN</td>\n      <td>NaN</td>\n      <td>NaN</td>\n      <td>NaN</td>\n    </tr>\n    <tr>\n      <th>1</th>\n      <td>NaN</td>\n      <td>NaN</td>\n      <td>NaN</td>\n      <td>NaN</td>\n      <td>NaN</td>\n    </tr>\n    <tr>\n      <th>2</th>\n      <td>NaN</td>\n      <td>NaN</td>\n      <td>NaN</td>\n      <td>NaN</td>\n      <td>NaN</td>\n    </tr>\n    <tr>\n      <th>3</th>\n      <td>NaN</td>\n      <td>NaN</td>\n      <td>NaN</td>\n      <td>NaN</td>\n      <td>NaN</td>\n    </tr>\n    <tr>\n      <th>4</th>\n      <td>NaN</td>\n      <td>NaN</td>\n      <td>NaN</td>\n      <td>NaN</td>\n      <td>NaN</td>\n    </tr>\n  </tbody>\n</table>\n</div>"
     },
     "metadata": {},
     "execution_count": 34
    }
   ],
   "source": [
    "df13_outer[df13_outer.isnull()]"
   ]
  },
  {
   "cell_type": "code",
   "execution_count": 35,
   "metadata": {},
   "outputs": [
    {
     "output_type": "execute_result",
     "data": {
      "text/plain": "                 pkg                              cert    size  users appstore\n4  com.qihoo.360safe  33abb11bf7e4072cc70cbd034078e72d  556226    NaN    qihoo",
      "text/html": "<div>\n<style scoped>\n    .dataframe tbody tr th:only-of-type {\n        vertical-align: middle;\n    }\n\n    .dataframe tbody tr th {\n        vertical-align: top;\n    }\n\n    .dataframe thead th {\n        text-align: right;\n    }\n</style>\n<table border=\"1\" class=\"dataframe\">\n  <thead>\n    <tr style=\"text-align: right;\">\n      <th></th>\n      <th>pkg</th>\n      <th>cert</th>\n      <th>size</th>\n      <th>users</th>\n      <th>appstore</th>\n    </tr>\n  </thead>\n  <tbody>\n    <tr>\n      <th>4</th>\n      <td>com.qihoo.360safe</td>\n      <td>33abb11bf7e4072cc70cbd034078e72d</td>\n      <td>556226</td>\n      <td>NaN</td>\n      <td>qihoo</td>\n    </tr>\n  </tbody>\n</table>\n</div>"
     },
     "metadata": {},
     "execution_count": 35
    }
   ],
   "source": [
    "df13_outer[df13_outer[\"users\"].isnull()]"
   ]
  },
  {
   "cell_type": "code",
   "execution_count": 36,
   "metadata": {},
   "outputs": [
    {
     "output_type": "execute_result",
     "data": {
      "text/plain": "                    pkg                              cert    size      users appstore\n0        com.tencent.mm  18c867f0717aa67b2ab7347505ba07ed  231234  3790371.0  tencent\n1        com.tencent.mm  18c867f0717aa67b2ab7347505ba07ed  238003  7790074.0    baidu\n2  com.tencent.mobileqq  a6b745bf24a2c277527716f6f36eb68d  377223  9890073.0  tencent\n3  com.tencent.mobileqq  4e3e851c931319a63f2395fa65f126ca  389908       38.0      NaN\n4     com.qihoo.360safe  33abb11bf7e4072cc70cbd034078e72d  556226        NaN    qihoo",
      "text/html": "<div>\n<style scoped>\n    .dataframe tbody tr th:only-of-type {\n        vertical-align: middle;\n    }\n\n    .dataframe tbody tr th {\n        vertical-align: top;\n    }\n\n    .dataframe thead th {\n        text-align: right;\n    }\n</style>\n<table border=\"1\" class=\"dataframe\">\n  <thead>\n    <tr style=\"text-align: right;\">\n      <th></th>\n      <th>pkg</th>\n      <th>cert</th>\n      <th>size</th>\n      <th>users</th>\n      <th>appstore</th>\n    </tr>\n  </thead>\n  <tbody>\n    <tr>\n      <th>0</th>\n      <td>com.tencent.mm</td>\n      <td>18c867f0717aa67b2ab7347505ba07ed</td>\n      <td>231234</td>\n      <td>3790371.0</td>\n      <td>tencent</td>\n    </tr>\n    <tr>\n      <th>1</th>\n      <td>com.tencent.mm</td>\n      <td>18c867f0717aa67b2ab7347505ba07ed</td>\n      <td>238003</td>\n      <td>7790074.0</td>\n      <td>baidu</td>\n    </tr>\n    <tr>\n      <th>2</th>\n      <td>com.tencent.mobileqq</td>\n      <td>a6b745bf24a2c277527716f6f36eb68d</td>\n      <td>377223</td>\n      <td>9890073.0</td>\n      <td>tencent</td>\n    </tr>\n    <tr>\n      <th>3</th>\n      <td>com.tencent.mobileqq</td>\n      <td>4e3e851c931319a63f2395fa65f126ca</td>\n      <td>389908</td>\n      <td>38.0</td>\n      <td>NaN</td>\n    </tr>\n    <tr>\n      <th>4</th>\n      <td>com.qihoo.360safe</td>\n      <td>33abb11bf7e4072cc70cbd034078e72d</td>\n      <td>556226</td>\n      <td>NaN</td>\n      <td>qihoo</td>\n    </tr>\n  </tbody>\n</table>\n</div>"
     },
     "metadata": {},
     "execution_count": 36
    }
   ],
   "source": [
    "df13_outer[df13_outer.notnull()]"
   ]
  },
  {
   "cell_type": "code",
   "execution_count": 37,
   "metadata": {},
   "outputs": [
    {
     "output_type": "execute_result",
     "data": {
      "text/plain": "                    pkg                              cert    size      users appstore\n0        com.tencent.mm  18c867f0717aa67b2ab7347505ba07ed  231234  3790371.0  tencent\n1        com.tencent.mm  18c867f0717aa67b2ab7347505ba07ed  238003  7790074.0    baidu\n2  com.tencent.mobileqq  a6b745bf24a2c277527716f6f36eb68d  377223  9890073.0  tencent\n3  com.tencent.mobileqq  4e3e851c931319a63f2395fa65f126ca  389908       38.0      NaN",
      "text/html": "<div>\n<style scoped>\n    .dataframe tbody tr th:only-of-type {\n        vertical-align: middle;\n    }\n\n    .dataframe tbody tr th {\n        vertical-align: top;\n    }\n\n    .dataframe thead th {\n        text-align: right;\n    }\n</style>\n<table border=\"1\" class=\"dataframe\">\n  <thead>\n    <tr style=\"text-align: right;\">\n      <th></th>\n      <th>pkg</th>\n      <th>cert</th>\n      <th>size</th>\n      <th>users</th>\n      <th>appstore</th>\n    </tr>\n  </thead>\n  <tbody>\n    <tr>\n      <th>0</th>\n      <td>com.tencent.mm</td>\n      <td>18c867f0717aa67b2ab7347505ba07ed</td>\n      <td>231234</td>\n      <td>3790371.0</td>\n      <td>tencent</td>\n    </tr>\n    <tr>\n      <th>1</th>\n      <td>com.tencent.mm</td>\n      <td>18c867f0717aa67b2ab7347505ba07ed</td>\n      <td>238003</td>\n      <td>7790074.0</td>\n      <td>baidu</td>\n    </tr>\n    <tr>\n      <th>2</th>\n      <td>com.tencent.mobileqq</td>\n      <td>a6b745bf24a2c277527716f6f36eb68d</td>\n      <td>377223</td>\n      <td>9890073.0</td>\n      <td>tencent</td>\n    </tr>\n    <tr>\n      <th>3</th>\n      <td>com.tencent.mobileqq</td>\n      <td>4e3e851c931319a63f2395fa65f126ca</td>\n      <td>389908</td>\n      <td>38.0</td>\n      <td>NaN</td>\n    </tr>\n  </tbody>\n</table>\n</div>"
     },
     "metadata": {},
     "execution_count": 37
    }
   ],
   "source": [
    "df13_outer[df13_outer.users.notnull()]"
   ]
  },
  {
   "cell_type": "code",
   "execution_count": 38,
   "metadata": {},
   "outputs": [
    {
     "output_type": "execute_result",
     "data": {
      "text/plain": "                    pkg                              cert    size      users appstore\n0        com.tencent.mm  18c867f0717aa67b2ab7347505ba07ed  231234  3790371.0  tencent\n1        com.tencent.mm  18c867f0717aa67b2ab7347505ba07ed  238003  7790074.0    baidu\n2  com.tencent.mobileqq  a6b745bf24a2c277527716f6f36eb68d  377223  9890073.0  tencent\n3  com.tencent.mobileqq  4e3e851c931319a63f2395fa65f126ca  389908       38.0        0\n4     com.qihoo.360safe  33abb11bf7e4072cc70cbd034078e72d  556226        0.0    qihoo",
      "text/html": "<div>\n<style scoped>\n    .dataframe tbody tr th:only-of-type {\n        vertical-align: middle;\n    }\n\n    .dataframe tbody tr th {\n        vertical-align: top;\n    }\n\n    .dataframe thead th {\n        text-align: right;\n    }\n</style>\n<table border=\"1\" class=\"dataframe\">\n  <thead>\n    <tr style=\"text-align: right;\">\n      <th></th>\n      <th>pkg</th>\n      <th>cert</th>\n      <th>size</th>\n      <th>users</th>\n      <th>appstore</th>\n    </tr>\n  </thead>\n  <tbody>\n    <tr>\n      <th>0</th>\n      <td>com.tencent.mm</td>\n      <td>18c867f0717aa67b2ab7347505ba07ed</td>\n      <td>231234</td>\n      <td>3790371.0</td>\n      <td>tencent</td>\n    </tr>\n    <tr>\n      <th>1</th>\n      <td>com.tencent.mm</td>\n      <td>18c867f0717aa67b2ab7347505ba07ed</td>\n      <td>238003</td>\n      <td>7790074.0</td>\n      <td>baidu</td>\n    </tr>\n    <tr>\n      <th>2</th>\n      <td>com.tencent.mobileqq</td>\n      <td>a6b745bf24a2c277527716f6f36eb68d</td>\n      <td>377223</td>\n      <td>9890073.0</td>\n      <td>tencent</td>\n    </tr>\n    <tr>\n      <th>3</th>\n      <td>com.tencent.mobileqq</td>\n      <td>4e3e851c931319a63f2395fa65f126ca</td>\n      <td>389908</td>\n      <td>38.0</td>\n      <td>0</td>\n    </tr>\n    <tr>\n      <th>4</th>\n      <td>com.qihoo.360safe</td>\n      <td>33abb11bf7e4072cc70cbd034078e72d</td>\n      <td>556226</td>\n      <td>0.0</td>\n      <td>qihoo</td>\n    </tr>\n  </tbody>\n</table>\n</div>"
     },
     "metadata": {},
     "execution_count": 38
    }
   ],
   "source": [
    "df13_outer.fillna(0)"
   ]
  },
  {
   "cell_type": "code",
   "execution_count": 39,
   "metadata": {},
   "outputs": [
    {
     "output_type": "execute_result",
     "data": {
      "text/plain": "                    pkg                              cert    size      users appstore\n0        com.tencent.mm  18c867f0717aa67b2ab7347505ba07ed  231234  3790371.0  tencent\n1        com.tencent.mm  18c867f0717aa67b2ab7347505ba07ed  238003  7790074.0    baidu\n2  com.tencent.mobileqq  a6b745bf24a2c277527716f6f36eb68d  377223  9890073.0  tencent",
      "text/html": "<div>\n<style scoped>\n    .dataframe tbody tr th:only-of-type {\n        vertical-align: middle;\n    }\n\n    .dataframe tbody tr th {\n        vertical-align: top;\n    }\n\n    .dataframe thead th {\n        text-align: right;\n    }\n</style>\n<table border=\"1\" class=\"dataframe\">\n  <thead>\n    <tr style=\"text-align: right;\">\n      <th></th>\n      <th>pkg</th>\n      <th>cert</th>\n      <th>size</th>\n      <th>users</th>\n      <th>appstore</th>\n    </tr>\n  </thead>\n  <tbody>\n    <tr>\n      <th>0</th>\n      <td>com.tencent.mm</td>\n      <td>18c867f0717aa67b2ab7347505ba07ed</td>\n      <td>231234</td>\n      <td>3790371.0</td>\n      <td>tencent</td>\n    </tr>\n    <tr>\n      <th>1</th>\n      <td>com.tencent.mm</td>\n      <td>18c867f0717aa67b2ab7347505ba07ed</td>\n      <td>238003</td>\n      <td>7790074.0</td>\n      <td>baidu</td>\n    </tr>\n    <tr>\n      <th>2</th>\n      <td>com.tencent.mobileqq</td>\n      <td>a6b745bf24a2c277527716f6f36eb68d</td>\n      <td>377223</td>\n      <td>9890073.0</td>\n      <td>tencent</td>\n    </tr>\n  </tbody>\n</table>\n</div>"
     },
     "metadata": {},
     "execution_count": 39
    }
   ],
   "source": [
    "# 默认会剔除任何包含缺失值的整行数据，how默认是any\n",
    "# df13_outer.dropna(inplace=True)\n",
    "df13_outer.dropna()"
   ]
  },
  {
   "cell_type": "code",
   "execution_count": 40,
   "metadata": {},
   "outputs": [
    {
     "output_type": "execute_result",
     "data": {
      "text/plain": "                    pkg                              cert    size      users appstore\n0        com.tencent.mm  18c867f0717aa67b2ab7347505ba07ed  231234  3790371.0  tencent\n1        com.tencent.mm  18c867f0717aa67b2ab7347505ba07ed  238003  7790074.0    baidu\n2  com.tencent.mobileqq  a6b745bf24a2c277527716f6f36eb68d  377223  9890073.0  tencent\n3  com.tencent.mobileqq  4e3e851c931319a63f2395fa65f126ca  389908       38.0      NaN",
      "text/html": "<div>\n<style scoped>\n    .dataframe tbody tr th:only-of-type {\n        vertical-align: middle;\n    }\n\n    .dataframe tbody tr th {\n        vertical-align: top;\n    }\n\n    .dataframe thead th {\n        text-align: right;\n    }\n</style>\n<table border=\"1\" class=\"dataframe\">\n  <thead>\n    <tr style=\"text-align: right;\">\n      <th></th>\n      <th>pkg</th>\n      <th>cert</th>\n      <th>size</th>\n      <th>users</th>\n      <th>appstore</th>\n    </tr>\n  </thead>\n  <tbody>\n    <tr>\n      <th>0</th>\n      <td>com.tencent.mm</td>\n      <td>18c867f0717aa67b2ab7347505ba07ed</td>\n      <td>231234</td>\n      <td>3790371.0</td>\n      <td>tencent</td>\n    </tr>\n    <tr>\n      <th>1</th>\n      <td>com.tencent.mm</td>\n      <td>18c867f0717aa67b2ab7347505ba07ed</td>\n      <td>238003</td>\n      <td>7790074.0</td>\n      <td>baidu</td>\n    </tr>\n    <tr>\n      <th>2</th>\n      <td>com.tencent.mobileqq</td>\n      <td>a6b745bf24a2c277527716f6f36eb68d</td>\n      <td>377223</td>\n      <td>9890073.0</td>\n      <td>tencent</td>\n    </tr>\n    <tr>\n      <th>3</th>\n      <td>com.tencent.mobileqq</td>\n      <td>4e3e851c931319a63f2395fa65f126ca</td>\n      <td>389908</td>\n      <td>38.0</td>\n      <td>NaN</td>\n    </tr>\n  </tbody>\n</table>\n</div>"
     },
     "metadata": {},
     "execution_count": 40
    }
   ],
   "source": [
    "# 剔除全部是缺失值的行或列，\n",
    "df13_outer.dropna(axis=\"rows\", how=\"all\")\n",
    "df13_outer.dropna(axis=\"columns\", how=\"all\")\n",
    "# 指定列为空才删除\n",
    "df13_outer.dropna(subset=[\"users\"])"
   ]
  },
  {
   "cell_type": "code",
   "execution_count": 41,
   "metadata": {},
   "outputs": [
    {
     "output_type": "execute_result",
     "data": {
      "text/plain": "                                                                      pkg                                                                                                                              cert     size     users\nmin                                                        com.tencent.mm                                                                                                  18c867f0717aa67b2ab7347505ba07ed   231234        38\nmax                                                  com.tencent.mobileqq                                                                                                  a6b745bf24a2c277527716f6f36eb68d   389908   9890073\nsum  com.tencent.mmcom.tencent.mmcom.tencent.mobileqqcom.tencent.mobileqq  18c867f0717aa67b2ab7347505ba07ed18c867f0717aa67b2ab7347505ba07eda6b745bf24a2c277527716f6f36eb68d4e3e851c931319a63f2395fa65f126ca  1236368  21470556",
      "text/html": "<div>\n<style scoped>\n    .dataframe tbody tr th:only-of-type {\n        vertical-align: middle;\n    }\n\n    .dataframe tbody tr th {\n        vertical-align: top;\n    }\n\n    .dataframe thead th {\n        text-align: right;\n    }\n</style>\n<table border=\"1\" class=\"dataframe\">\n  <thead>\n    <tr style=\"text-align: right;\">\n      <th></th>\n      <th>pkg</th>\n      <th>cert</th>\n      <th>size</th>\n      <th>users</th>\n    </tr>\n  </thead>\n  <tbody>\n    <tr>\n      <th>min</th>\n      <td>com.tencent.mm</td>\n      <td>18c867f0717aa67b2ab7347505ba07ed</td>\n      <td>231234</td>\n      <td>38</td>\n    </tr>\n    <tr>\n      <th>max</th>\n      <td>com.tencent.mobileqq</td>\n      <td>a6b745bf24a2c277527716f6f36eb68d</td>\n      <td>389908</td>\n      <td>9890073</td>\n    </tr>\n    <tr>\n      <th>sum</th>\n      <td>com.tencent.mmcom.tencent.mmcom.tencent.mobileqqcom.tencent.mobileqq</td>\n      <td>18c867f0717aa67b2ab7347505ba07ed18c867f0717aa67b2ab7347505ba07eda6b745bf24a2c277527716f6f36eb68d4e3e851c931319a63f2395fa65f126ca</td>\n      <td>1236368</td>\n      <td>21470556</td>\n    </tr>\n  </tbody>\n</table>\n</div>"
     },
     "metadata": {},
     "execution_count": 41
    }
   ],
   "source": [
    "df1.aggregate( [\"min\", \"max\", \"sum\"])"
   ]
  },
  {
   "cell_type": "code",
   "execution_count": 42,
   "metadata": {},
   "outputs": [
    {
     "output_type": "execute_result",
     "data": {
      "text/plain": "        users\nmin        38\nmax   9890073\nsum  21470556",
      "text/html": "<div>\n<style scoped>\n    .dataframe tbody tr th:only-of-type {\n        vertical-align: middle;\n    }\n\n    .dataframe tbody tr th {\n        vertical-align: top;\n    }\n\n    .dataframe thead th {\n        text-align: right;\n    }\n</style>\n<table border=\"1\" class=\"dataframe\">\n  <thead>\n    <tr style=\"text-align: right;\">\n      <th></th>\n      <th>users</th>\n    </tr>\n  </thead>\n  <tbody>\n    <tr>\n      <th>min</th>\n      <td>38</td>\n    </tr>\n    <tr>\n      <th>max</th>\n      <td>9890073</td>\n    </tr>\n    <tr>\n      <th>sum</th>\n      <td>21470556</td>\n    </tr>\n  </tbody>\n</table>\n</div>"
     },
     "metadata": {},
     "execution_count": 42
    }
   ],
   "source": [
    "df1.aggregate({\"users\": [\"min\", \"max\", \"sum\"]})"
   ]
  },
  {
   "cell_type": "code",
   "execution_count": 43,
   "metadata": {},
   "outputs": [
    {
     "output_type": "execute_result",
     "data": {
      "text/plain": "cert            4\nsize       389908\nusers    21470556\ndtype: int64"
     },
     "metadata": {},
     "execution_count": 43
    }
   ],
   "source": [
    "df1.aggregate({\"cert\": \"count\",  \"size\": \"max\", \"users\": \"sum\"})"
   ]
  },
  {
   "cell_type": "code",
   "execution_count": 44,
   "metadata": {},
   "outputs": [
    {
     "output_type": "execute_result",
     "data": {
      "text/plain": "                      cert    size     users\npkg                                         \ncom.tencent.mm           2  238003  11580445\ncom.tencent.mobileqq     2  389908   9890111",
      "text/html": "<div>\n<style scoped>\n    .dataframe tbody tr th:only-of-type {\n        vertical-align: middle;\n    }\n\n    .dataframe tbody tr th {\n        vertical-align: top;\n    }\n\n    .dataframe thead th {\n        text-align: right;\n    }\n</style>\n<table border=\"1\" class=\"dataframe\">\n  <thead>\n    <tr style=\"text-align: right;\">\n      <th></th>\n      <th>cert</th>\n      <th>size</th>\n      <th>users</th>\n    </tr>\n    <tr>\n      <th>pkg</th>\n      <th></th>\n      <th></th>\n      <th></th>\n    </tr>\n  </thead>\n  <tbody>\n    <tr>\n      <th>com.tencent.mm</th>\n      <td>2</td>\n      <td>238003</td>\n      <td>11580445</td>\n    </tr>\n    <tr>\n      <th>com.tencent.mobileqq</th>\n      <td>2</td>\n      <td>389908</td>\n      <td>9890111</td>\n    </tr>\n  </tbody>\n</table>\n</div>"
     },
     "metadata": {},
     "execution_count": 44
    }
   ],
   "source": [
    "df1.groupby(\"pkg\").aggregate({\"cert\": \"count\",  \"size\": \"max\", \"users\": np.sum})"
   ]
  },
  {
   "cell_type": "code",
   "execution_count": 45,
   "metadata": {},
   "outputs": [
    {
     "output_type": "execute_result",
     "data": {
      "text/plain": "                                                       cert    size     users\npkg                  cert                                                    \ncom.tencent.mm       18c867f0717aa67b2ab7347505ba07ed     2  238003  11580445\ncom.tencent.mobileqq 4e3e851c931319a63f2395fa65f126ca     1  389908        38\n                     a6b745bf24a2c277527716f6f36eb68d     1  377223   9890073",
      "text/html": "<div>\n<style scoped>\n    .dataframe tbody tr th:only-of-type {\n        vertical-align: middle;\n    }\n\n    .dataframe tbody tr th {\n        vertical-align: top;\n    }\n\n    .dataframe thead th {\n        text-align: right;\n    }\n</style>\n<table border=\"1\" class=\"dataframe\">\n  <thead>\n    <tr style=\"text-align: right;\">\n      <th></th>\n      <th></th>\n      <th>cert</th>\n      <th>size</th>\n      <th>users</th>\n    </tr>\n    <tr>\n      <th>pkg</th>\n      <th>cert</th>\n      <th></th>\n      <th></th>\n      <th></th>\n    </tr>\n  </thead>\n  <tbody>\n    <tr>\n      <th>com.tencent.mm</th>\n      <th>18c867f0717aa67b2ab7347505ba07ed</th>\n      <td>2</td>\n      <td>238003</td>\n      <td>11580445</td>\n    </tr>\n    <tr>\n      <th rowspan=\"2\" valign=\"top\">com.tencent.mobileqq</th>\n      <th>4e3e851c931319a63f2395fa65f126ca</th>\n      <td>1</td>\n      <td>389908</td>\n      <td>38</td>\n    </tr>\n    <tr>\n      <th>a6b745bf24a2c277527716f6f36eb68d</th>\n      <td>1</td>\n      <td>377223</td>\n      <td>9890073</td>\n    </tr>\n  </tbody>\n</table>\n</div>"
     },
     "metadata": {},
     "execution_count": 45
    }
   ],
   "source": [
    "df1.groupby([\"pkg\", \"cert\"]).aggregate({\"cert\": \"count\",  \"size\": \"max\", \"users\": np.sum})"
   ]
  },
  {
   "cell_type": "code",
   "execution_count": 46,
   "metadata": {},
   "outputs": [
    {
     "output_type": "execute_result",
     "data": {
      "text/plain": "                             size         users\npkg                                            \ncom.tencent.mm        4786.405802  2.828217e+06\ncom.tencent.mobileqq  8969.649519  6.993311e+06",
      "text/html": "<div>\n<style scoped>\n    .dataframe tbody tr th:only-of-type {\n        vertical-align: middle;\n    }\n\n    .dataframe tbody tr th {\n        vertical-align: top;\n    }\n\n    .dataframe thead th {\n        text-align: right;\n    }\n</style>\n<table border=\"1\" class=\"dataframe\">\n  <thead>\n    <tr style=\"text-align: right;\">\n      <th></th>\n      <th>size</th>\n      <th>users</th>\n    </tr>\n    <tr>\n      <th>pkg</th>\n      <th></th>\n      <th></th>\n    </tr>\n  </thead>\n  <tbody>\n    <tr>\n      <th>com.tencent.mm</th>\n      <td>4786.405802</td>\n      <td>2.828217e+06</td>\n    </tr>\n    <tr>\n      <th>com.tencent.mobileqq</th>\n      <td>8969.649519</td>\n      <td>6.993311e+06</td>\n    </tr>\n  </tbody>\n</table>\n</div>"
     },
     "metadata": {},
     "execution_count": 46
    }
   ],
   "source": [
    "df1.groupby([\"pkg\"]).std()"
   ]
  },
  {
   "cell_type": "code",
   "execution_count": 47,
   "metadata": {},
   "outputs": [
    {
     "output_type": "execute_result",
     "data": {
      "text/plain": "                    pkg                              cert    size    users\n2  com.tencent.mobileqq  a6b745bf24a2c277527716f6f36eb68d  377223  9890073\n3  com.tencent.mobileqq  4e3e851c931319a63f2395fa65f126ca  389908       38",
      "text/html": "<div>\n<style scoped>\n    .dataframe tbody tr th:only-of-type {\n        vertical-align: middle;\n    }\n\n    .dataframe tbody tr th {\n        vertical-align: top;\n    }\n\n    .dataframe thead th {\n        text-align: right;\n    }\n</style>\n<table border=\"1\" class=\"dataframe\">\n  <thead>\n    <tr style=\"text-align: right;\">\n      <th></th>\n      <th>pkg</th>\n      <th>cert</th>\n      <th>size</th>\n      <th>users</th>\n    </tr>\n  </thead>\n  <tbody>\n    <tr>\n      <th>2</th>\n      <td>com.tencent.mobileqq</td>\n      <td>a6b745bf24a2c277527716f6f36eb68d</td>\n      <td>377223</td>\n      <td>9890073</td>\n    </tr>\n    <tr>\n      <th>3</th>\n      <td>com.tencent.mobileqq</td>\n      <td>4e3e851c931319a63f2395fa65f126ca</td>\n      <td>389908</td>\n      <td>38</td>\n    </tr>\n  </tbody>\n</table>\n</div>"
     },
     "metadata": {},
     "execution_count": 47
    }
   ],
   "source": [
    "def filter_func(x):\n",
    "    return x[\"size\"].std() > 5000\n",
    "\n",
    "df1.groupby(\"pkg\").filter(filter_func)"
   ]
  },
  {
   "cell_type": "code",
   "execution_count": 48,
   "metadata": {},
   "outputs": [
    {
     "output_type": "execute_result",
     "data": {
      "text/plain": "     size      users\n0 -3384.5 -1999851.5\n1  3384.5  1999851.5\n2 -6342.5  4945017.5\n3  6342.5 -4945017.5",
      "text/html": "<div>\n<style scoped>\n    .dataframe tbody tr th:only-of-type {\n        vertical-align: middle;\n    }\n\n    .dataframe tbody tr th {\n        vertical-align: top;\n    }\n\n    .dataframe thead th {\n        text-align: right;\n    }\n</style>\n<table border=\"1\" class=\"dataframe\">\n  <thead>\n    <tr style=\"text-align: right;\">\n      <th></th>\n      <th>size</th>\n      <th>users</th>\n    </tr>\n  </thead>\n  <tbody>\n    <tr>\n      <th>0</th>\n      <td>-3384.5</td>\n      <td>-1999851.5</td>\n    </tr>\n    <tr>\n      <th>1</th>\n      <td>3384.5</td>\n      <td>1999851.5</td>\n    </tr>\n    <tr>\n      <th>2</th>\n      <td>-6342.5</td>\n      <td>4945017.5</td>\n    </tr>\n    <tr>\n      <th>3</th>\n      <td>6342.5</td>\n      <td>-4945017.5</td>\n    </tr>\n  </tbody>\n</table>\n</div>"
     },
     "metadata": {},
     "execution_count": 48
    }
   ],
   "source": [
    "df1.groupby(\"pkg\").transform(lambda x: x - x.mean())"
   ]
  },
  {
   "cell_type": "code",
   "execution_count": 49,
   "metadata": {},
   "outputs": [
    {
     "output_type": "execute_result",
     "data": {
      "text/plain": "                    pkg                              cert    size     users  isTencent\n0        com.tencent.mm  18c867f0717aa67b2ab7347505ba07ed  231234  0.486564       True\n1        com.tencent.mm  18c867f0717aa67b2ab7347505ba07ed  238003  1.000000       True\n2  com.tencent.mobileqq  a6b745bf24a2c277527716f6f36eb68d  377223  1.000000       True\n3  com.tencent.mobileqq  4e3e851c931319a63f2395fa65f126ca  389908  0.000004       True",
      "text/html": "<div>\n<style scoped>\n    .dataframe tbody tr th:only-of-type {\n        vertical-align: middle;\n    }\n\n    .dataframe tbody tr th {\n        vertical-align: top;\n    }\n\n    .dataframe thead th {\n        text-align: right;\n    }\n</style>\n<table border=\"1\" class=\"dataframe\">\n  <thead>\n    <tr style=\"text-align: right;\">\n      <th></th>\n      <th>pkg</th>\n      <th>cert</th>\n      <th>size</th>\n      <th>users</th>\n      <th>isTencent</th>\n    </tr>\n  </thead>\n  <tbody>\n    <tr>\n      <th>0</th>\n      <td>com.tencent.mm</td>\n      <td>18c867f0717aa67b2ab7347505ba07ed</td>\n      <td>231234</td>\n      <td>0.486564</td>\n      <td>True</td>\n    </tr>\n    <tr>\n      <th>1</th>\n      <td>com.tencent.mm</td>\n      <td>18c867f0717aa67b2ab7347505ba07ed</td>\n      <td>238003</td>\n      <td>1.000000</td>\n      <td>True</td>\n    </tr>\n    <tr>\n      <th>2</th>\n      <td>com.tencent.mobileqq</td>\n      <td>a6b745bf24a2c277527716f6f36eb68d</td>\n      <td>377223</td>\n      <td>1.000000</td>\n      <td>True</td>\n    </tr>\n    <tr>\n      <th>3</th>\n      <td>com.tencent.mobileqq</td>\n      <td>4e3e851c931319a63f2395fa65f126ca</td>\n      <td>389908</td>\n      <td>0.000004</td>\n      <td>True</td>\n    </tr>\n  </tbody>\n</table>\n</div>"
     },
     "metadata": {},
     "execution_count": 49
    }
   ],
   "source": [
    "def apply_func(x):\n",
    "    # x是一个分组数据的DataFrame\n",
    "    x[\"isTencent\"] = x.pkg.str.contains(\"tencent\")\n",
    "    x[\"users\"] /= x[\"users\"].max()\n",
    "    return x\n",
    "\n",
    "df1.groupby(\"pkg\").apply(apply_func)"
   ]
  },
  {
   "cell_type": "code",
   "execution_count": 50,
   "metadata": {},
   "outputs": [
    {
     "output_type": "execute_result",
     "data": {
      "text/plain": "                    pkg                              cert    size    users\n2  com.tencent.mobileqq  a6b745bf24a2c277527716f6f36eb68d  377223  9890073",
      "text/html": "<div>\n<style scoped>\n    .dataframe tbody tr th:only-of-type {\n        vertical-align: middle;\n    }\n\n    .dataframe tbody tr th {\n        vertical-align: top;\n    }\n\n    .dataframe thead th {\n        text-align: right;\n    }\n</style>\n<table border=\"1\" class=\"dataframe\">\n  <thead>\n    <tr style=\"text-align: right;\">\n      <th></th>\n      <th>pkg</th>\n      <th>cert</th>\n      <th>size</th>\n      <th>users</th>\n    </tr>\n  </thead>\n  <tbody>\n    <tr>\n      <th>2</th>\n      <td>com.tencent.mobileqq</td>\n      <td>a6b745bf24a2c277527716f6f36eb68d</td>\n      <td>377223</td>\n      <td>9890073</td>\n    </tr>\n  </tbody>\n</table>\n</div>"
     },
     "metadata": {},
     "execution_count": 50
    }
   ],
   "source": [
    "df1[df1.pkg.isin(df2.pkg)&df1.cert.isin(df2.cert)&df1[\"size\"].isin(df2[\"size\"])&df1.users.isin(df2.users)]"
   ]
  },
  {
   "cell_type": "code",
   "execution_count": 51,
   "metadata": {},
   "outputs": [
    {
     "output_type": "execute_result",
     "data": {
      "text/plain": "                    pkg                              cert    size    users                                                           pcs\n0        com.tencent.mm  18c867f0717aa67b2ab7347505ba07ed  231234  3790371        com.tencent.mm|18c867f0717aa67b2ab7347505ba07ed|231234\n1        com.tencent.mm  18c867f0717aa67b2ab7347505ba07ed  238003  7790074        com.tencent.mm|18c867f0717aa67b2ab7347505ba07ed|238003\n2  com.tencent.mobileqq  a6b745bf24a2c277527716f6f36eb68d  377223  9890073  com.tencent.mobileqq|a6b745bf24a2c277527716f6f36eb68d|377223\n3  com.tencent.mobileqq  4e3e851c931319a63f2395fa65f126ca  389908       38  com.tencent.mobileqq|4e3e851c931319a63f2395fa65f126ca|389908",
      "text/html": "<div>\n<style scoped>\n    .dataframe tbody tr th:only-of-type {\n        vertical-align: middle;\n    }\n\n    .dataframe tbody tr th {\n        vertical-align: top;\n    }\n\n    .dataframe thead th {\n        text-align: right;\n    }\n</style>\n<table border=\"1\" class=\"dataframe\">\n  <thead>\n    <tr style=\"text-align: right;\">\n      <th></th>\n      <th>pkg</th>\n      <th>cert</th>\n      <th>size</th>\n      <th>users</th>\n      <th>pcs</th>\n    </tr>\n  </thead>\n  <tbody>\n    <tr>\n      <th>0</th>\n      <td>com.tencent.mm</td>\n      <td>18c867f0717aa67b2ab7347505ba07ed</td>\n      <td>231234</td>\n      <td>3790371</td>\n      <td>com.tencent.mm|18c867f0717aa67b2ab7347505ba07ed|231234</td>\n    </tr>\n    <tr>\n      <th>1</th>\n      <td>com.tencent.mm</td>\n      <td>18c867f0717aa67b2ab7347505ba07ed</td>\n      <td>238003</td>\n      <td>7790074</td>\n      <td>com.tencent.mm|18c867f0717aa67b2ab7347505ba07ed|238003</td>\n    </tr>\n    <tr>\n      <th>2</th>\n      <td>com.tencent.mobileqq</td>\n      <td>a6b745bf24a2c277527716f6f36eb68d</td>\n      <td>377223</td>\n      <td>9890073</td>\n      <td>com.tencent.mobileqq|a6b745bf24a2c277527716f6f36eb68d|377223</td>\n    </tr>\n    <tr>\n      <th>3</th>\n      <td>com.tencent.mobileqq</td>\n      <td>4e3e851c931319a63f2395fa65f126ca</td>\n      <td>389908</td>\n      <td>38</td>\n      <td>com.tencent.mobileqq|4e3e851c931319a63f2395fa65f126ca|389908</td>\n    </tr>\n  </tbody>\n</table>\n</div>"
     },
     "metadata": {},
     "execution_count": 51
    }
   ],
   "source": [
    "df1[\"pcs\"] = df1.pkg.str.cat(df1.cert, sep=\"|\").str.cat(df1[\"size\"].astype(str), sep=\"|\")\n",
    "df1"
   ]
  },
  {
   "cell_type": "code",
   "execution_count": 52,
   "metadata": {},
   "outputs": [
    {
     "output_type": "execute_result",
     "data": {
      "text/plain": "0          [com.tencent.mm, 18c867f0717aa67b2ab7347505ba07ed, 231234]\n1          [com.tencent.mm, 18c867f0717aa67b2ab7347505ba07ed, 238003]\n2    [com.tencent.mobileqq, a6b745bf24a2c277527716f6f36eb68d, 377223]\n3    [com.tencent.mobileqq, 4e3e851c931319a63f2395fa65f126ca, 389908]\nName: pcs, dtype: object"
     },
     "metadata": {},
     "execution_count": 52
    }
   ],
   "source": [
    "df1.pcs.str.split(\"|\", 2)"
   ]
  },
  {
   "cell_type": "code",
   "execution_count": 53,
   "metadata": {},
   "outputs": [
    {
     "output_type": "execute_result",
     "data": {
      "text/plain": "                    pkg                              cert    size    users                                                           pcs                     p                                 c       s\n0        com.tencent.mm  18c867f0717aa67b2ab7347505ba07ed  231234  3790371        com.tencent.mm|18c867f0717aa67b2ab7347505ba07ed|231234        com.tencent.mm  18c867f0717aa67b2ab7347505ba07ed  231234\n1        com.tencent.mm  18c867f0717aa67b2ab7347505ba07ed  238003  7790074        com.tencent.mm|18c867f0717aa67b2ab7347505ba07ed|238003        com.tencent.mm  18c867f0717aa67b2ab7347505ba07ed  238003\n2  com.tencent.mobileqq  a6b745bf24a2c277527716f6f36eb68d  377223  9890073  com.tencent.mobileqq|a6b745bf24a2c277527716f6f36eb68d|377223  com.tencent.mobileqq  a6b745bf24a2c277527716f6f36eb68d  377223\n3  com.tencent.mobileqq  4e3e851c931319a63f2395fa65f126ca  389908       38  com.tencent.mobileqq|4e3e851c931319a63f2395fa65f126ca|389908  com.tencent.mobileqq  4e3e851c931319a63f2395fa65f126ca  389908",
      "text/html": "<div>\n<style scoped>\n    .dataframe tbody tr th:only-of-type {\n        vertical-align: middle;\n    }\n\n    .dataframe tbody tr th {\n        vertical-align: top;\n    }\n\n    .dataframe thead th {\n        text-align: right;\n    }\n</style>\n<table border=\"1\" class=\"dataframe\">\n  <thead>\n    <tr style=\"text-align: right;\">\n      <th></th>\n      <th>pkg</th>\n      <th>cert</th>\n      <th>size</th>\n      <th>users</th>\n      <th>pcs</th>\n      <th>p</th>\n      <th>c</th>\n      <th>s</th>\n    </tr>\n  </thead>\n  <tbody>\n    <tr>\n      <th>0</th>\n      <td>com.tencent.mm</td>\n      <td>18c867f0717aa67b2ab7347505ba07ed</td>\n      <td>231234</td>\n      <td>3790371</td>\n      <td>com.tencent.mm|18c867f0717aa67b2ab7347505ba07ed|231234</td>\n      <td>com.tencent.mm</td>\n      <td>18c867f0717aa67b2ab7347505ba07ed</td>\n      <td>231234</td>\n    </tr>\n    <tr>\n      <th>1</th>\n      <td>com.tencent.mm</td>\n      <td>18c867f0717aa67b2ab7347505ba07ed</td>\n      <td>238003</td>\n      <td>7790074</td>\n      <td>com.tencent.mm|18c867f0717aa67b2ab7347505ba07ed|238003</td>\n      <td>com.tencent.mm</td>\n      <td>18c867f0717aa67b2ab7347505ba07ed</td>\n      <td>238003</td>\n    </tr>\n    <tr>\n      <th>2</th>\n      <td>com.tencent.mobileqq</td>\n      <td>a6b745bf24a2c277527716f6f36eb68d</td>\n      <td>377223</td>\n      <td>9890073</td>\n      <td>com.tencent.mobileqq|a6b745bf24a2c277527716f6f36eb68d|377223</td>\n      <td>com.tencent.mobileqq</td>\n      <td>a6b745bf24a2c277527716f6f36eb68d</td>\n      <td>377223</td>\n    </tr>\n    <tr>\n      <th>3</th>\n      <td>com.tencent.mobileqq</td>\n      <td>4e3e851c931319a63f2395fa65f126ca</td>\n      <td>389908</td>\n      <td>38</td>\n      <td>com.tencent.mobileqq|4e3e851c931319a63f2395fa65f126ca|389908</td>\n      <td>com.tencent.mobileqq</td>\n      <td>4e3e851c931319a63f2395fa65f126ca</td>\n      <td>389908</td>\n    </tr>\n  </tbody>\n</table>\n</div>"
     },
     "metadata": {},
     "execution_count": 53
    }
   ],
   "source": [
    "df1[\"p\"], df1[\"c\"], df1[\"s\"] = df1.pcs.str.split(\"|\", 2).str\n",
    "df1"
   ]
  },
  {
   "cell_type": "code",
   "execution_count": 54,
   "metadata": {},
   "outputs": [
    {
     "output_type": "execute_result",
     "data": {
      "text/plain": "                    pkg                              cert    size    users                                                           pcs                     p                                 c       s  isTencent\n0        com.tencent.mm  18c867f0717aa67b2ab7347505ba07ed  231234  3790371        com.tencent.mm|18c867f0717aa67b2ab7347505ba07ed|231234        com.tencent.mm  18c867f0717aa67b2ab7347505ba07ed  231234       True\n1        com.tencent.mm  18c867f0717aa67b2ab7347505ba07ed  238003  7790074        com.tencent.mm|18c867f0717aa67b2ab7347505ba07ed|238003        com.tencent.mm  18c867f0717aa67b2ab7347505ba07ed  238003       True\n2  com.tencent.mobileqq  a6b745bf24a2c277527716f6f36eb68d  377223  9890073  com.tencent.mobileqq|a6b745bf24a2c277527716f6f36eb68d|377223  com.tencent.mobileqq  a6b745bf24a2c277527716f6f36eb68d  377223       True\n3  com.tencent.mobileqq  4e3e851c931319a63f2395fa65f126ca  389908       38  com.tencent.mobileqq|4e3e851c931319a63f2395fa65f126ca|389908  com.tencent.mobileqq  4e3e851c931319a63f2395fa65f126ca  389908       True",
      "text/html": "<div>\n<style scoped>\n    .dataframe tbody tr th:only-of-type {\n        vertical-align: middle;\n    }\n\n    .dataframe tbody tr th {\n        vertical-align: top;\n    }\n\n    .dataframe thead th {\n        text-align: right;\n    }\n</style>\n<table border=\"1\" class=\"dataframe\">\n  <thead>\n    <tr style=\"text-align: right;\">\n      <th></th>\n      <th>pkg</th>\n      <th>cert</th>\n      <th>size</th>\n      <th>users</th>\n      <th>pcs</th>\n      <th>p</th>\n      <th>c</th>\n      <th>s</th>\n      <th>isTencent</th>\n    </tr>\n  </thead>\n  <tbody>\n    <tr>\n      <th>0</th>\n      <td>com.tencent.mm</td>\n      <td>18c867f0717aa67b2ab7347505ba07ed</td>\n      <td>231234</td>\n      <td>3790371</td>\n      <td>com.tencent.mm|18c867f0717aa67b2ab7347505ba07ed|231234</td>\n      <td>com.tencent.mm</td>\n      <td>18c867f0717aa67b2ab7347505ba07ed</td>\n      <td>231234</td>\n      <td>True</td>\n    </tr>\n    <tr>\n      <th>1</th>\n      <td>com.tencent.mm</td>\n      <td>18c867f0717aa67b2ab7347505ba07ed</td>\n      <td>238003</td>\n      <td>7790074</td>\n      <td>com.tencent.mm|18c867f0717aa67b2ab7347505ba07ed|238003</td>\n      <td>com.tencent.mm</td>\n      <td>18c867f0717aa67b2ab7347505ba07ed</td>\n      <td>238003</td>\n      <td>True</td>\n    </tr>\n    <tr>\n      <th>2</th>\n      <td>com.tencent.mobileqq</td>\n      <td>a6b745bf24a2c277527716f6f36eb68d</td>\n      <td>377223</td>\n      <td>9890073</td>\n      <td>com.tencent.mobileqq|a6b745bf24a2c277527716f6f36eb68d|377223</td>\n      <td>com.tencent.mobileqq</td>\n      <td>a6b745bf24a2c277527716f6f36eb68d</td>\n      <td>377223</td>\n      <td>True</td>\n    </tr>\n    <tr>\n      <th>3</th>\n      <td>com.tencent.mobileqq</td>\n      <td>4e3e851c931319a63f2395fa65f126ca</td>\n      <td>389908</td>\n      <td>38</td>\n      <td>com.tencent.mobileqq|4e3e851c931319a63f2395fa65f126ca|389908</td>\n      <td>com.tencent.mobileqq</td>\n      <td>4e3e851c931319a63f2395fa65f126ca</td>\n      <td>389908</td>\n      <td>True</td>\n    </tr>\n  </tbody>\n</table>\n</div>"
     },
     "metadata": {},
     "execution_count": 54
    }
   ],
   "source": [
    "df1[\"isTencent\"] = df1.pkg.str.contains(\"tencent\")\n",
    "df1"
   ]
  },
  {
   "cell_type": "code",
   "execution_count": 55,
   "metadata": {},
   "outputs": [
    {
     "output_type": "execute_result",
     "data": {
      "text/plain": "   com  mm  mobileqq  tencent\n0    1   1         0        1\n1    1   1         0        1\n2    1   0         1        1\n3    1   0         1        1",
      "text/html": "<div>\n<style scoped>\n    .dataframe tbody tr th:only-of-type {\n        vertical-align: middle;\n    }\n\n    .dataframe tbody tr th {\n        vertical-align: top;\n    }\n\n    .dataframe thead th {\n        text-align: right;\n    }\n</style>\n<table border=\"1\" class=\"dataframe\">\n  <thead>\n    <tr style=\"text-align: right;\">\n      <th></th>\n      <th>com</th>\n      <th>mm</th>\n      <th>mobileqq</th>\n      <th>tencent</th>\n    </tr>\n  </thead>\n  <tbody>\n    <tr>\n      <th>0</th>\n      <td>1</td>\n      <td>1</td>\n      <td>0</td>\n      <td>1</td>\n    </tr>\n    <tr>\n      <th>1</th>\n      <td>1</td>\n      <td>1</td>\n      <td>0</td>\n      <td>1</td>\n    </tr>\n    <tr>\n      <th>2</th>\n      <td>1</td>\n      <td>0</td>\n      <td>1</td>\n      <td>1</td>\n    </tr>\n    <tr>\n      <th>3</th>\n      <td>1</td>\n      <td>0</td>\n      <td>1</td>\n      <td>1</td>\n    </tr>\n  </tbody>\n</table>\n</div>"
     },
     "metadata": {},
     "execution_count": 55
    }
   ],
   "source": [
    "# one-hot\n",
    "df1[\"pkg\"].str.get_dummies(\".\")"
   ]
  },
  {
   "cell_type": "code",
   "execution_count": 56,
   "metadata": {},
   "outputs": [
    {
     "output_type": "execute_result",
     "data": {
      "text/plain": "    c                                                              cert  isTencent   p  pcs                                 pkg   s      size       users\n0 NaN  18c867f0717aa67b2ab7347505ba07ed18c867f0717aa67b2ab7347505ba07ed        NaN NaN  NaN        com.tencent.mmcom.tencent.mm NaN  463243.0   5000742.0\n1 NaN  18c867f0717aa67b2ab7347505ba07eda6b745bf24a2c277527716f6f36eb68d        NaN NaN  NaN  com.tencent.mmcom.tencent.mobileqq NaN  615226.0  17680147.0\n2 NaN                                                               NaN        NaN NaN  NaN                                 NaN NaN       NaN         NaN\n3 NaN                                                               NaN        NaN NaN  NaN                                 NaN NaN       NaN         NaN",
      "text/html": "<div>\n<style scoped>\n    .dataframe tbody tr th:only-of-type {\n        vertical-align: middle;\n    }\n\n    .dataframe tbody tr th {\n        vertical-align: top;\n    }\n\n    .dataframe thead th {\n        text-align: right;\n    }\n</style>\n<table border=\"1\" class=\"dataframe\">\n  <thead>\n    <tr style=\"text-align: right;\">\n      <th></th>\n      <th>c</th>\n      <th>cert</th>\n      <th>isTencent</th>\n      <th>p</th>\n      <th>pcs</th>\n      <th>pkg</th>\n      <th>s</th>\n      <th>size</th>\n      <th>users</th>\n    </tr>\n  </thead>\n  <tbody>\n    <tr>\n      <th>0</th>\n      <td>NaN</td>\n      <td>18c867f0717aa67b2ab7347505ba07ed18c867f0717aa67b2ab7347505ba07ed</td>\n      <td>NaN</td>\n      <td>NaN</td>\n      <td>NaN</td>\n      <td>com.tencent.mmcom.tencent.mm</td>\n      <td>NaN</td>\n      <td>463243.0</td>\n      <td>5000742.0</td>\n    </tr>\n    <tr>\n      <th>1</th>\n      <td>NaN</td>\n      <td>18c867f0717aa67b2ab7347505ba07eda6b745bf24a2c277527716f6f36eb68d</td>\n      <td>NaN</td>\n      <td>NaN</td>\n      <td>NaN</td>\n      <td>com.tencent.mmcom.tencent.mobileqq</td>\n      <td>NaN</td>\n      <td>615226.0</td>\n      <td>17680147.0</td>\n    </tr>\n    <tr>\n      <th>2</th>\n      <td>NaN</td>\n      <td>NaN</td>\n      <td>NaN</td>\n      <td>NaN</td>\n      <td>NaN</td>\n      <td>NaN</td>\n      <td>NaN</td>\n      <td>NaN</td>\n      <td>NaN</td>\n    </tr>\n    <tr>\n      <th>3</th>\n      <td>NaN</td>\n      <td>NaN</td>\n      <td>NaN</td>\n      <td>NaN</td>\n      <td>NaN</td>\n      <td>NaN</td>\n      <td>NaN</td>\n      <td>NaN</td>\n      <td>NaN</td>\n    </tr>\n  </tbody>\n</table>\n</div>"
     },
     "metadata": {},
     "execution_count": 56
    }
   ],
   "source": [
    "df1+df2"
   ]
  },
  {
   "cell_type": "code",
   "execution_count": 57,
   "metadata": {},
   "outputs": [
    {
     "output_type": "execute_result",
     "data": {
      "text/plain": "                               cert    size                                                           pcs                     p                                 c       s  isTencent\n0  18c867f0717aa67b2ab7347505ba07ed  231234        com.tencent.mm|18c867f0717aa67b2ab7347505ba07ed|231234        com.tencent.mm  18c867f0717aa67b2ab7347505ba07ed  231234       True\n1  18c867f0717aa67b2ab7347505ba07ed  238003        com.tencent.mm|18c867f0717aa67b2ab7347505ba07ed|238003        com.tencent.mm  18c867f0717aa67b2ab7347505ba07ed  238003       True\n2  a6b745bf24a2c277527716f6f36eb68d  377223  com.tencent.mobileqq|a6b745bf24a2c277527716f6f36eb68d|377223  com.tencent.mobileqq  a6b745bf24a2c277527716f6f36eb68d  377223       True\n3  4e3e851c931319a63f2395fa65f126ca  389908  com.tencent.mobileqq|4e3e851c931319a63f2395fa65f126ca|389908  com.tencent.mobileqq  4e3e851c931319a63f2395fa65f126ca  389908       True",
      "text/html": "<div>\n<style scoped>\n    .dataframe tbody tr th:only-of-type {\n        vertical-align: middle;\n    }\n\n    .dataframe tbody tr th {\n        vertical-align: top;\n    }\n\n    .dataframe thead th {\n        text-align: right;\n    }\n</style>\n<table border=\"1\" class=\"dataframe\">\n  <thead>\n    <tr style=\"text-align: right;\">\n      <th></th>\n      <th>cert</th>\n      <th>size</th>\n      <th>pcs</th>\n      <th>p</th>\n      <th>c</th>\n      <th>s</th>\n      <th>isTencent</th>\n    </tr>\n  </thead>\n  <tbody>\n    <tr>\n      <th>0</th>\n      <td>18c867f0717aa67b2ab7347505ba07ed</td>\n      <td>231234</td>\n      <td>com.tencent.mm|18c867f0717aa67b2ab7347505ba07ed|231234</td>\n      <td>com.tencent.mm</td>\n      <td>18c867f0717aa67b2ab7347505ba07ed</td>\n      <td>231234</td>\n      <td>True</td>\n    </tr>\n    <tr>\n      <th>1</th>\n      <td>18c867f0717aa67b2ab7347505ba07ed</td>\n      <td>238003</td>\n      <td>com.tencent.mm|18c867f0717aa67b2ab7347505ba07ed|238003</td>\n      <td>com.tencent.mm</td>\n      <td>18c867f0717aa67b2ab7347505ba07ed</td>\n      <td>238003</td>\n      <td>True</td>\n    </tr>\n    <tr>\n      <th>2</th>\n      <td>a6b745bf24a2c277527716f6f36eb68d</td>\n      <td>377223</td>\n      <td>com.tencent.mobileqq|a6b745bf24a2c277527716f6f36eb68d|377223</td>\n      <td>com.tencent.mobileqq</td>\n      <td>a6b745bf24a2c277527716f6f36eb68d</td>\n      <td>377223</td>\n      <td>True</td>\n    </tr>\n    <tr>\n      <th>3</th>\n      <td>4e3e851c931319a63f2395fa65f126ca</td>\n      <td>389908</td>\n      <td>com.tencent.mobileqq|4e3e851c931319a63f2395fa65f126ca|389908</td>\n      <td>com.tencent.mobileqq</td>\n      <td>4e3e851c931319a63f2395fa65f126ca</td>\n      <td>389908</td>\n      <td>True</td>\n    </tr>\n  </tbody>\n</table>\n</div>"
     },
     "metadata": {},
     "execution_count": 57
    }
   ],
   "source": [
    "df1.drop(columns=[\"pkg\", \"users\"])"
   ]
  },
  {
   "cell_type": "code",
   "execution_count": null,
   "metadata": {},
   "outputs": [],
   "source": []
  },
  {
   "cell_type": "code",
   "execution_count": 58,
   "metadata": {},
   "outputs": [
    {
     "output_type": "execute_result",
     "data": {
      "text/plain": "[6, 7, 8, 9]"
     },
     "metadata": {},
     "execution_count": 58
    }
   ],
   "source": [
    "[x for x in range(10) if x>5]"
   ]
  },
  {
   "cell_type": "code",
   "execution_count": null,
   "metadata": {},
   "outputs": [],
   "source": []
  }
 ],
 "metadata": {
  "kernelspec": {
   "display_name": "Python 3",
   "language": "python",
   "name": "python3"
  },
  "language_info": {
   "codemirror_mode": {
    "name": "ipython",
    "version": 3
   },
   "file_extension": ".py",
   "mimetype": "text/x-python",
   "name": "python",
   "nbconvert_exporter": "python",
   "pygments_lexer": "ipython3",
   "version": "3.7.6-final"
  }
 },
 "nbformat": 4,
 "nbformat_minor": 2
}