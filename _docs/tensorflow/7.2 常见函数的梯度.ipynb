{
 "cells": [
  {
   "cell_type": "markdown",
   "metadata": {},
   "source": [
    "导数(Derivative)\n",
    "$$a = \\lim_{\\Delta x \\to 0}\\frac{\\Delta y}{\\Delta x} = \\lim_{\\Delta x \\to 0}\\frac{f(x+\\Delta x) - f(x)}{\\Delta x}$$\n",
    "\n",
    "可以记为$f^{'}(x)$或$\\frac{dy}{dx}$"
   ]
  },
  {
   "cell_type": "markdown",
   "metadata": {},
   "source": [
    "基本函数的导数\n",
    "- 常数函数c，导数为0\n",
    "- 线性函数$y = ax + c$，导数为a\n",
    "- 幂函数$x^a$，导数为$ax^{a-1}$\n",
    "- 指数函数$a^x$，导数为$a^x \\ln a$，如$y = e^x$函数$\\frac{dy}{dx} = e^x \\ln e = e^x$\n",
    "- 对数函数$\\log_ax$，导数为$\\frac{1}{x \\ln a}$，如$y = \\ln x$函数$\\frac{dy}{dx} = \\frac{1}{x\\ln e} = \\frac{1}{x}$"
   ]
  },
  {
   "cell_type": "markdown",
   "metadata": {},
   "source": [
    "常用导数性质\n",
    "- 函数加减 $(f + g)^{'} = f^{'} + g^{'}$\n",
    "- 函数相乘 $(fg)^{'} = f^{'} \\cdot g + f \\cdot g^{'}$\n",
    "- 函数相除 $\\left(\\frac{f}{g}\\right)^{'} = \\frac{f^{'} \\cdot g - f \\cdot g^{'}}{g^2}, \\quad g \\ne 0$\n",
    "- 复合函数的导数，考虑复合函数$f(g(x))$，令$u = g(x)$，其导数为：\n",
    "$$\\frac{df(g(x))}{dx} = \\frac{df(u)}{du}\\frac{dg(x)}{dx} = f^{'}(u) \\cdot g^{'}(x)$$"
   ]
  },
  {
   "cell_type": "code",
   "execution_count": null,
   "metadata": {},
   "outputs": [],
   "source": []
  }
 ],
 "metadata": {
  "kernelspec": {
   "display_name": "Python 3",
   "language": "python",
   "name": "python3"
  },
  "language_info": {
   "codemirror_mode": {
    "name": "ipython",
    "version": 3
   },
   "file_extension": ".py",
   "mimetype": "text/x-python",
   "name": "python",
   "nbconvert_exporter": "python",
   "pygments_lexer": "ipython3",
   "version": "3.6.8"
  }
 },
 "nbformat": 4,
 "nbformat_minor": 2
}