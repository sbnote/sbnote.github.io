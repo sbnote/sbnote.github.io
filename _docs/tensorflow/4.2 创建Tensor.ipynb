{
 "cells": [
  {
   "cell_type": "code",
   "execution_count": 69,
   "metadata": {},
   "outputs": [],
   "source": [
    "import tensorflow as tf\n",
    "import numpy as np\n",
    "from tensorflow import keras\n",
    "from tensorflow.keras import layers"
   ]
  },
  {
   "cell_type": "markdown",
   "metadata": {},
   "source": [
    "### From Numpy, List"
   ]
  },
  {
   "cell_type": "code",
   "execution_count": 2,
   "metadata": {},
   "outputs": [
    {
     "data": {
      "text/plain": [
       "<tf.Tensor: shape=(2, 3), dtype=float64, numpy=\n",
       "array([[1., 1., 1.],\n",
       "       [1., 1., 1.]])>"
      ]
     },
     "execution_count": 2,
     "metadata": {},
     "output_type": "execute_result"
    }
   ],
   "source": [
    "tf.convert_to_tensor(np.ones([2,3]))"
   ]
  },
  {
   "cell_type": "code",
   "execution_count": 3,
   "metadata": {},
   "outputs": [
    {
     "data": {
      "text/plain": [
       "<tf.Tensor: shape=(2, 3), dtype=float64, numpy=\n",
       "array([[0., 0., 0.],\n",
       "       [0., 0., 0.]])>"
      ]
     },
     "execution_count": 3,
     "metadata": {},
     "output_type": "execute_result"
    }
   ],
   "source": [
    "tf.convert_to_tensor(np.zeros([2,3]))"
   ]
  },
  {
   "cell_type": "code",
   "execution_count": 4,
   "metadata": {},
   "outputs": [
    {
     "data": {
      "text/plain": [
       "<tf.Tensor: shape=(2,), dtype=int32, numpy=array([1, 2], dtype=int32)>"
      ]
     },
     "execution_count": 4,
     "metadata": {},
     "output_type": "execute_result"
    }
   ],
   "source": [
    "tf.convert_to_tensor([1,2])"
   ]
  },
  {
   "cell_type": "code",
   "execution_count": 5,
   "metadata": {},
   "outputs": [
    {
     "data": {
      "text/plain": [
       "<tf.Tensor: shape=(2,), dtype=float32, numpy=array([1., 2.], dtype=float32)>"
      ]
     },
     "execution_count": 5,
     "metadata": {},
     "output_type": "execute_result"
    }
   ],
   "source": [
    "tf.convert_to_tensor([1,2.])"
   ]
  },
  {
   "cell_type": "code",
   "execution_count": 6,
   "metadata": {},
   "outputs": [
    {
     "data": {
      "text/plain": [
       "<tf.Tensor: shape=(2, 1), dtype=float32, numpy=\n",
       "array([[1.],\n",
       "       [2.]], dtype=float32)>"
      ]
     },
     "execution_count": 6,
     "metadata": {},
     "output_type": "execute_result"
    }
   ],
   "source": [
    "tf.convert_to_tensor([[1],[2.]])"
   ]
  },
  {
   "cell_type": "markdown",
   "metadata": {},
   "source": [
    "### tf.zeros\n",
    "全部初始化为0"
   ]
  },
  {
   "cell_type": "code",
   "execution_count": 7,
   "metadata": {},
   "outputs": [
    {
     "data": {
      "text/plain": [
       "<tf.Tensor: shape=(), dtype=float32, numpy=0.0>"
      ]
     },
     "execution_count": 7,
     "metadata": {},
     "output_type": "execute_result"
    }
   ],
   "source": [
    "tf.zeros([])"
   ]
  },
  {
   "cell_type": "code",
   "execution_count": 8,
   "metadata": {},
   "outputs": [
    {
     "data": {
      "text/plain": [
       "<tf.Tensor: shape=(1,), dtype=float32, numpy=array([0.], dtype=float32)>"
      ]
     },
     "execution_count": 8,
     "metadata": {},
     "output_type": "execute_result"
    }
   ],
   "source": [
    "tf.zeros([1])"
   ]
  },
  {
   "cell_type": "code",
   "execution_count": 9,
   "metadata": {},
   "outputs": [
    {
     "data": {
      "text/plain": [
       "<tf.Tensor: shape=(2, 2), dtype=float32, numpy=\n",
       "array([[0., 0.],\n",
       "       [0., 0.]], dtype=float32)>"
      ]
     },
     "execution_count": 9,
     "metadata": {},
     "output_type": "execute_result"
    }
   ],
   "source": [
    "tf.zeros([2,2])"
   ]
  },
  {
   "cell_type": "code",
   "execution_count": 10,
   "metadata": {},
   "outputs": [
    {
     "data": {
      "text/plain": [
       "<tf.Tensor: shape=(2, 3, 3), dtype=float32, numpy=\n",
       "array([[[0., 0., 0.],\n",
       "        [0., 0., 0.],\n",
       "        [0., 0., 0.]],\n",
       "\n",
       "       [[0., 0., 0.],\n",
       "        [0., 0., 0.],\n",
       "        [0., 0., 0.]]], dtype=float32)>"
      ]
     },
     "execution_count": 10,
     "metadata": {},
     "output_type": "execute_result"
    }
   ],
   "source": [
    "tf.zeros([2,3,3])"
   ]
  },
  {
   "cell_type": "markdown",
   "metadata": {},
   "source": [
    "### tf.zeros_like\n",
    "初始化为与某tensor同shape全为0的"
   ]
  },
  {
   "cell_type": "code",
   "execution_count": 11,
   "metadata": {},
   "outputs": [],
   "source": [
    "a = tf.zeros([2,3,4])"
   ]
  },
  {
   "cell_type": "code",
   "execution_count": 12,
   "metadata": {},
   "outputs": [
    {
     "data": {
      "text/plain": [
       "<tf.Tensor: shape=(2, 3, 4), dtype=float32, numpy=\n",
       "array([[[0., 0., 0., 0.],\n",
       "        [0., 0., 0., 0.],\n",
       "        [0., 0., 0., 0.]],\n",
       "\n",
       "       [[0., 0., 0., 0.],\n",
       "        [0., 0., 0., 0.],\n",
       "        [0., 0., 0., 0.]]], dtype=float32)>"
      ]
     },
     "execution_count": 12,
     "metadata": {},
     "output_type": "execute_result"
    }
   ],
   "source": [
    "tf.zeros_like(a)"
   ]
  },
  {
   "cell_type": "code",
   "execution_count": 13,
   "metadata": {},
   "outputs": [
    {
     "data": {
      "text/plain": [
       "<tf.Tensor: shape=(2, 3, 4), dtype=float32, numpy=\n",
       "array([[[0., 0., 0., 0.],\n",
       "        [0., 0., 0., 0.],\n",
       "        [0., 0., 0., 0.]],\n",
       "\n",
       "       [[0., 0., 0., 0.],\n",
       "        [0., 0., 0., 0.],\n",
       "        [0., 0., 0., 0.]]], dtype=float32)>"
      ]
     },
     "execution_count": 13,
     "metadata": {},
     "output_type": "execute_result"
    }
   ],
   "source": [
    "tf.zeros(a.shape)"
   ]
  },
  {
   "cell_type": "markdown",
   "metadata": {},
   "source": [
    "### tf.ones\n",
    "全部初始化为1"
   ]
  },
  {
   "cell_type": "code",
   "execution_count": 14,
   "metadata": {},
   "outputs": [
    {
     "data": {
      "text/plain": [
       "<tf.Tensor: shape=(1,), dtype=float32, numpy=array([1.], dtype=float32)>"
      ]
     },
     "execution_count": 14,
     "metadata": {},
     "output_type": "execute_result"
    }
   ],
   "source": [
    "tf.ones(1)"
   ]
  },
  {
   "cell_type": "code",
   "execution_count": 15,
   "metadata": {},
   "outputs": [
    {
     "data": {
      "text/plain": [
       "<tf.Tensor: shape=(), dtype=float32, numpy=1.0>"
      ]
     },
     "execution_count": 15,
     "metadata": {},
     "output_type": "execute_result"
    }
   ],
   "source": [
    "tf.ones([])"
   ]
  },
  {
   "cell_type": "code",
   "execution_count": 16,
   "metadata": {},
   "outputs": [
    {
     "data": {
      "text/plain": [
       "<tf.Tensor: shape=(2,), dtype=float32, numpy=array([1., 1.], dtype=float32)>"
      ]
     },
     "execution_count": 16,
     "metadata": {},
     "output_type": "execute_result"
    }
   ],
   "source": [
    "tf.ones([2])"
   ]
  },
  {
   "cell_type": "code",
   "execution_count": 17,
   "metadata": {},
   "outputs": [
    {
     "data": {
      "text/plain": [
       "<tf.Tensor: shape=(2, 3), dtype=float32, numpy=\n",
       "array([[1., 1., 1.],\n",
       "       [1., 1., 1.]], dtype=float32)>"
      ]
     },
     "execution_count": 17,
     "metadata": {},
     "output_type": "execute_result"
    }
   ],
   "source": [
    "tf.ones([2,3])"
   ]
  },
  {
   "cell_type": "code",
   "execution_count": 18,
   "metadata": {},
   "outputs": [
    {
     "data": {
      "text/plain": [
       "<tf.Tensor: shape=(2, 3, 4), dtype=float32, numpy=\n",
       "array([[[1., 1., 1., 1.],\n",
       "        [1., 1., 1., 1.],\n",
       "        [1., 1., 1., 1.]],\n",
       "\n",
       "       [[1., 1., 1., 1.],\n",
       "        [1., 1., 1., 1.],\n",
       "        [1., 1., 1., 1.]]], dtype=float32)>"
      ]
     },
     "execution_count": 18,
     "metadata": {},
     "output_type": "execute_result"
    }
   ],
   "source": [
    "tf.ones_like(a)"
   ]
  },
  {
   "cell_type": "markdown",
   "metadata": {},
   "source": [
    "### Fill\n",
    "全部初始化为某值"
   ]
  },
  {
   "cell_type": "code",
   "execution_count": 19,
   "metadata": {},
   "outputs": [
    {
     "data": {
      "text/plain": [
       "<tf.Tensor: shape=(2, 2), dtype=int32, numpy=\n",
       "array([[0, 0],\n",
       "       [0, 0]], dtype=int32)>"
      ]
     },
     "execution_count": 19,
     "metadata": {},
     "output_type": "execute_result"
    }
   ],
   "source": [
    "tf.fill([2,2], 0)"
   ]
  },
  {
   "cell_type": "code",
   "execution_count": 20,
   "metadata": {},
   "outputs": [
    {
     "data": {
      "text/plain": [
       "<tf.Tensor: shape=(2, 2), dtype=float32, numpy=\n",
       "array([[0., 0.],\n",
       "       [0., 0.]], dtype=float32)>"
      ]
     },
     "execution_count": 20,
     "metadata": {},
     "output_type": "execute_result"
    }
   ],
   "source": [
    "tf.fill([2,2], 0.)"
   ]
  },
  {
   "cell_type": "code",
   "execution_count": 21,
   "metadata": {},
   "outputs": [
    {
     "data": {
      "text/plain": [
       "<tf.Tensor: shape=(2, 2), dtype=int32, numpy=\n",
       "array([[1, 1],\n",
       "       [1, 1]], dtype=int32)>"
      ]
     },
     "execution_count": 21,
     "metadata": {},
     "output_type": "execute_result"
    }
   ],
   "source": [
    "tf.fill([2,2], 1)"
   ]
  },
  {
   "cell_type": "code",
   "execution_count": 22,
   "metadata": {},
   "outputs": [
    {
     "data": {
      "text/plain": [
       "<tf.Tensor: shape=(2, 2), dtype=int32, numpy=\n",
       "array([[9, 9],\n",
       "       [9, 9]], dtype=int32)>"
      ]
     },
     "execution_count": 22,
     "metadata": {},
     "output_type": "execute_result"
    }
   ],
   "source": [
    "tf.fill([2,2], 9)"
   ]
  },
  {
   "cell_type": "markdown",
   "metadata": {},
   "source": [
    "### Normal\n",
    "随机正态分布中采样"
   ]
  },
  {
   "cell_type": "code",
   "execution_count": 23,
   "metadata": {},
   "outputs": [
    {
     "data": {
      "text/plain": [
       "<tf.Tensor: shape=(2, 2), dtype=float32, numpy=\n",
       "array([[1.0184058, 1.4321252],\n",
       "       [1.8003876, 1.62186  ]], dtype=float32)>"
      ]
     },
     "execution_count": 23,
     "metadata": {},
     "output_type": "execute_result"
    }
   ],
   "source": [
    "tf.random.normal([2,2], mean=1, stddev=1)"
   ]
  },
  {
   "cell_type": "code",
   "execution_count": 24,
   "metadata": {},
   "outputs": [
    {
     "data": {
      "text/plain": [
       "<tf.Tensor: shape=(2, 2), dtype=float32, numpy=\n",
       "array([[-0.9548709 , -1.4233096 ],\n",
       "       [ 0.22374316, -2.2311935 ]], dtype=float32)>"
      ]
     },
     "execution_count": 24,
     "metadata": {},
     "output_type": "execute_result"
    }
   ],
   "source": [
    "tf.random.normal([2,2])"
   ]
  },
  {
   "cell_type": "markdown",
   "metadata": {},
   "source": [
    "截断的随机正态分布"
   ]
  },
  {
   "cell_type": "code",
   "execution_count": 25,
   "metadata": {},
   "outputs": [
    {
     "data": {
      "text/plain": [
       "<tf.Tensor: shape=(2, 2), dtype=float32, numpy=\n",
       "array([[-0.84583324, -0.7233468 ],\n",
       "       [-1.1292493 , -1.740394  ]], dtype=float32)>"
      ]
     },
     "execution_count": 25,
     "metadata": {},
     "output_type": "execute_result"
    }
   ],
   "source": [
    "tf.random.truncated_normal([2,2], mean=0, stddev=1)"
   ]
  },
  {
   "cell_type": "markdown",
   "metadata": {},
   "source": [
    "### Uniform\n",
    "随机均匀分布中采样"
   ]
  },
  {
   "cell_type": "code",
   "execution_count": 26,
   "metadata": {},
   "outputs": [
    {
     "data": {
      "text/plain": [
       "<tf.Tensor: shape=(2, 2), dtype=float32, numpy=\n",
       "array([[0.62436235, 0.3201301 ],\n",
       "       [0.35767794, 0.5208937 ]], dtype=float32)>"
      ]
     },
     "execution_count": 26,
     "metadata": {},
     "output_type": "execute_result"
    }
   ],
   "source": [
    "tf.random.uniform([2,2], minval=0, maxval=1)"
   ]
  },
  {
   "cell_type": "code",
   "execution_count": 27,
   "metadata": {},
   "outputs": [
    {
     "data": {
      "text/plain": [
       "<tf.Tensor: shape=(2, 2), dtype=float32, numpy=\n",
       "array([[39.53595 , 86.50863 ],\n",
       "       [77.67111 , 16.213799]], dtype=float32)>"
      ]
     },
     "execution_count": 27,
     "metadata": {},
     "output_type": "execute_result"
    }
   ],
   "source": [
    "tf.random.uniform([2,2], minval=0, maxval=100)"
   ]
  },
  {
   "cell_type": "markdown",
   "metadata": {},
   "source": [
    "### Random Permutation\n",
    "随机打散, shuffle"
   ]
  },
  {
   "cell_type": "code",
   "execution_count": 28,
   "metadata": {},
   "outputs": [
    {
     "data": {
      "text/plain": [
       "<tf.Tensor: shape=(10,), dtype=int32, numpy=array([0, 1, 2, 3, 4, 5, 6, 7, 8, 9], dtype=int32)>"
      ]
     },
     "execution_count": 28,
     "metadata": {},
     "output_type": "execute_result"
    }
   ],
   "source": [
    "idx = tf.range(10)\n",
    "idx"
   ]
  },
  {
   "cell_type": "code",
   "execution_count": 29,
   "metadata": {},
   "outputs": [
    {
     "data": {
      "text/plain": [
       "<tf.Tensor: shape=(10,), dtype=int32, numpy=array([4, 0, 2, 5, 7, 6, 3, 1, 9, 8], dtype=int32)>"
      ]
     },
     "execution_count": 29,
     "metadata": {},
     "output_type": "execute_result"
    }
   ],
   "source": [
    "idx = tf.random.shuffle(idx)  # 随机打散\n",
    "idx"
   ]
  },
  {
   "cell_type": "code",
   "execution_count": 30,
   "metadata": {},
   "outputs": [
    {
     "data": {
      "text/plain": [
       "<tf.Tensor: shape=(10,), dtype=int32, numpy=array([3, 4, 0, 3, 4, 6, 4, 0, 8, 2], dtype=int32)>"
      ]
     },
     "execution_count": 30,
     "metadata": {},
     "output_type": "execute_result"
    }
   ],
   "source": [
    "a = tf.random.normal([10, 784])\n",
    "b = tf.random.uniform([10], maxval=10, dtype=tf.int32)\n",
    "b"
   ]
  },
  {
   "cell_type": "code",
   "execution_count": 31,
   "metadata": {},
   "outputs": [
    {
     "data": {
      "text/plain": [
       "<tf.Tensor: shape=(10,), dtype=int32, numpy=array([4, 3, 0, 6, 0, 4, 3, 4, 2, 8], dtype=int32)>"
      ]
     },
     "execution_count": 31,
     "metadata": {},
     "output_type": "execute_result"
    }
   ],
   "source": [
    "# 一一对应取到打散后的a和b\n",
    "a = tf.gather(a, idx)\n",
    "b = tf.gather(b, idx)\n",
    "b"
   ]
  },
  {
   "cell_type": "markdown",
   "metadata": {},
   "source": [
    "### tf.constant\n",
    "标量"
   ]
  },
  {
   "cell_type": "code",
   "execution_count": 32,
   "metadata": {},
   "outputs": [
    {
     "data": {
      "text/plain": [
       "<tf.Tensor: shape=(), dtype=int32, numpy=1>"
      ]
     },
     "execution_count": 32,
     "metadata": {},
     "output_type": "execute_result"
    }
   ],
   "source": [
    "tf.constant(1)"
   ]
  },
  {
   "cell_type": "code",
   "execution_count": 33,
   "metadata": {},
   "outputs": [
    {
     "data": {
      "text/plain": [
       "<tf.Tensor: shape=(1,), dtype=int32, numpy=array([1], dtype=int32)>"
      ]
     },
     "execution_count": 33,
     "metadata": {},
     "output_type": "execute_result"
    }
   ],
   "source": [
    "tf.constant([1])"
   ]
  },
  {
   "cell_type": "code",
   "execution_count": 34,
   "metadata": {},
   "outputs": [
    {
     "data": {
      "text/plain": [
       "<tf.Tensor: shape=(2,), dtype=float32, numpy=array([1., 2.], dtype=float32)>"
      ]
     },
     "execution_count": 34,
     "metadata": {},
     "output_type": "execute_result"
    }
   ],
   "source": [
    "tf.constant([1,2.])"
   ]
  },
  {
   "cell_type": "code",
   "execution_count": 35,
   "metadata": {},
   "outputs": [
    {
     "ename": "ValueError",
     "evalue": "Can't convert non-rectangular Python sequence to Tensor.",
     "output_type": "error",
     "traceback": [
      "\u001b[0;31m---------------------------------------------------------------------------\u001b[0m",
      "\u001b[0;31mValueError\u001b[0m                                Traceback (most recent call last)",
      "\u001b[0;32m<ipython-input-35-dfa9edad981c>\u001b[0m in \u001b[0;36m<module>\u001b[0;34m\u001b[0m\n\u001b[0;32m----> 1\u001b[0;31m \u001b[0mtf\u001b[0m\u001b[0;34m.\u001b[0m\u001b[0mconstant\u001b[0m\u001b[0;34m(\u001b[0m\u001b[0;34m[\u001b[0m\u001b[0;34m[\u001b[0m\u001b[0;36m1\u001b[0m\u001b[0;34m,\u001b[0m\u001b[0;36m2.\u001b[0m\u001b[0;34m]\u001b[0m\u001b[0;34m,\u001b[0m\u001b[0;34m[\u001b[0m\u001b[0;36m3.\u001b[0m\u001b[0;34m]\u001b[0m\u001b[0;34m]\u001b[0m\u001b[0;34m)\u001b[0m\u001b[0;34m\u001b[0m\u001b[0;34m\u001b[0m\u001b[0m\n\u001b[0m",
      "\u001b[0;32m/Library/Frameworks/Python.framework/Versions/3.7/lib/python3.7/site-packages/tensorflow_core/python/framework/constant_op.py\u001b[0m in \u001b[0;36mconstant\u001b[0;34m(value, dtype, shape, name)\u001b[0m\n\u001b[1;32m    256\u001b[0m   \"\"\"\n\u001b[1;32m    257\u001b[0m   return _constant_impl(value, dtype, shape, name, verify_shape=False,\n\u001b[0;32m--> 258\u001b[0;31m                         allow_broadcast=True)\n\u001b[0m\u001b[1;32m    259\u001b[0m \u001b[0;34m\u001b[0m\u001b[0m\n\u001b[1;32m    260\u001b[0m \u001b[0;34m\u001b[0m\u001b[0m\n",
      "\u001b[0;32m/Library/Frameworks/Python.framework/Versions/3.7/lib/python3.7/site-packages/tensorflow_core/python/framework/constant_op.py\u001b[0m in \u001b[0;36m_constant_impl\u001b[0;34m(value, dtype, shape, name, verify_shape, allow_broadcast)\u001b[0m\n\u001b[1;32m    264\u001b[0m   \u001b[0mctx\u001b[0m \u001b[0;34m=\u001b[0m \u001b[0mcontext\u001b[0m\u001b[0;34m.\u001b[0m\u001b[0mcontext\u001b[0m\u001b[0;34m(\u001b[0m\u001b[0;34m)\u001b[0m\u001b[0;34m\u001b[0m\u001b[0;34m\u001b[0m\u001b[0m\n\u001b[1;32m    265\u001b[0m   \u001b[0;32mif\u001b[0m \u001b[0mctx\u001b[0m\u001b[0;34m.\u001b[0m\u001b[0mexecuting_eagerly\u001b[0m\u001b[0;34m(\u001b[0m\u001b[0;34m)\u001b[0m\u001b[0;34m:\u001b[0m\u001b[0;34m\u001b[0m\u001b[0;34m\u001b[0m\u001b[0m\n\u001b[0;32m--> 266\u001b[0;31m     \u001b[0mt\u001b[0m \u001b[0;34m=\u001b[0m \u001b[0mconvert_to_eager_tensor\u001b[0m\u001b[0;34m(\u001b[0m\u001b[0mvalue\u001b[0m\u001b[0;34m,\u001b[0m \u001b[0mctx\u001b[0m\u001b[0;34m,\u001b[0m \u001b[0mdtype\u001b[0m\u001b[0;34m)\u001b[0m\u001b[0;34m\u001b[0m\u001b[0;34m\u001b[0m\u001b[0m\n\u001b[0m\u001b[1;32m    267\u001b[0m     \u001b[0;32mif\u001b[0m \u001b[0mshape\u001b[0m \u001b[0;32mis\u001b[0m \u001b[0;32mNone\u001b[0m\u001b[0;34m:\u001b[0m\u001b[0;34m\u001b[0m\u001b[0;34m\u001b[0m\u001b[0m\n\u001b[1;32m    268\u001b[0m       \u001b[0;32mreturn\u001b[0m \u001b[0mt\u001b[0m\u001b[0;34m\u001b[0m\u001b[0;34m\u001b[0m\u001b[0m\n",
      "\u001b[0;32m/Library/Frameworks/Python.framework/Versions/3.7/lib/python3.7/site-packages/tensorflow_core/python/framework/constant_op.py\u001b[0m in \u001b[0;36mconvert_to_eager_tensor\u001b[0;34m(value, ctx, dtype)\u001b[0m\n\u001b[1;32m     94\u001b[0m       \u001b[0mdtype\u001b[0m \u001b[0;34m=\u001b[0m \u001b[0mdtypes\u001b[0m\u001b[0;34m.\u001b[0m\u001b[0mas_dtype\u001b[0m\u001b[0;34m(\u001b[0m\u001b[0mdtype\u001b[0m\u001b[0;34m)\u001b[0m\u001b[0;34m.\u001b[0m\u001b[0mas_datatype_enum\u001b[0m\u001b[0;34m\u001b[0m\u001b[0;34m\u001b[0m\u001b[0m\n\u001b[1;32m     95\u001b[0m   \u001b[0mctx\u001b[0m\u001b[0;34m.\u001b[0m\u001b[0mensure_initialized\u001b[0m\u001b[0;34m(\u001b[0m\u001b[0;34m)\u001b[0m\u001b[0;34m\u001b[0m\u001b[0;34m\u001b[0m\u001b[0m\n\u001b[0;32m---> 96\u001b[0;31m   \u001b[0;32mreturn\u001b[0m \u001b[0mops\u001b[0m\u001b[0;34m.\u001b[0m\u001b[0mEagerTensor\u001b[0m\u001b[0;34m(\u001b[0m\u001b[0mvalue\u001b[0m\u001b[0;34m,\u001b[0m \u001b[0mctx\u001b[0m\u001b[0;34m.\u001b[0m\u001b[0mdevice_name\u001b[0m\u001b[0;34m,\u001b[0m \u001b[0mdtype\u001b[0m\u001b[0;34m)\u001b[0m\u001b[0;34m\u001b[0m\u001b[0;34m\u001b[0m\u001b[0m\n\u001b[0m\u001b[1;32m     97\u001b[0m \u001b[0;34m\u001b[0m\u001b[0m\n\u001b[1;32m     98\u001b[0m \u001b[0;34m\u001b[0m\u001b[0m\n",
      "\u001b[0;31mValueError\u001b[0m: Can't convert non-rectangular Python sequence to Tensor."
     ]
    }
   ],
   "source": [
    "tf.constant([[1,2.],[3.]])  # 每行元素个数必要一致"
   ]
  },
  {
   "cell_type": "markdown",
   "metadata": {},
   "source": [
    "### Scalar\n",
    "- []，空括号的shape，表示一个Scalar，典型的应用如loss\n",
    "- loss = mse(out, y)\n",
    "- accuracy\n",
    "\n",
    "loss与accuracy都是标量，就是具体数值"
   ]
  },
  {
   "cell_type": "markdown",
   "metadata": {},
   "source": [
    "### Loss"
   ]
  },
  {
   "cell_type": "code",
   "execution_count": 36,
   "metadata": {},
   "outputs": [
    {
     "data": {
      "text/plain": [
       "<tf.Tensor: shape=(4, 10), dtype=float32, numpy=\n",
       "array([[0.47809136, 0.5952097 , 0.8011824 , 0.37398338, 0.974241  ,\n",
       "        0.06121886, 0.0352031 , 0.15239847, 0.1807195 , 0.33194447],\n",
       "       [0.97978365, 0.582881  , 0.05845296, 0.83796763, 0.10656965,\n",
       "        0.7944516 , 0.34806657, 0.1761657 , 0.6974777 , 0.19779658],\n",
       "       [0.03740621, 0.9898832 , 0.9893081 , 0.6989492 , 0.22085798,\n",
       "        0.46065402, 0.4486004 , 0.9602858 , 0.40171027, 0.7624881 ],\n",
       "       [0.25419295, 0.08865726, 0.8196044 , 0.62286806, 0.19302833,\n",
       "        0.05138338, 0.7407185 , 0.10039496, 0.77612805, 0.46042323]],\n",
       "      dtype=float32)>"
      ]
     },
     "execution_count": 36,
     "metadata": {},
     "output_type": "execute_result"
    }
   ],
   "source": [
    "out = tf.random.uniform([4,10])\n",
    "out"
   ]
  },
  {
   "cell_type": "code",
   "execution_count": 37,
   "metadata": {},
   "outputs": [
    {
     "data": {
      "text/plain": [
       "<tf.Tensor: shape=(4,), dtype=int32, numpy=array([0, 1, 2, 3], dtype=int32)>"
      ]
     },
     "execution_count": 37,
     "metadata": {},
     "output_type": "execute_result"
    }
   ],
   "source": [
    "y = tf.range(4)\n",
    "y"
   ]
  },
  {
   "cell_type": "code",
   "execution_count": 38,
   "metadata": {},
   "outputs": [
    {
     "data": {
      "text/plain": [
       "<tf.Tensor: shape=(4, 10), dtype=float32, numpy=\n",
       "array([[1., 0., 0., 0., 0., 0., 0., 0., 0., 0.],\n",
       "       [0., 1., 0., 0., 0., 0., 0., 0., 0., 0.],\n",
       "       [0., 0., 1., 0., 0., 0., 0., 0., 0., 0.],\n",
       "       [0., 0., 0., 1., 0., 0., 0., 0., 0., 0.]], dtype=float32)>"
      ]
     },
     "execution_count": 38,
     "metadata": {},
     "output_type": "execute_result"
    }
   ],
   "source": [
    "y = tf.one_hot(y, depth=10)\n",
    "y"
   ]
  },
  {
   "cell_type": "code",
   "execution_count": 39,
   "metadata": {},
   "outputs": [
    {
     "data": {
      "text/plain": [
       "<tf.Tensor: shape=(4,), dtype=float32, numpy=array([0.25286245, 0.31598645, 0.35970432, 0.22994614], dtype=float32)>"
      ]
     },
     "execution_count": 39,
     "metadata": {},
     "output_type": "execute_result"
    }
   ],
   "source": [
    "loss = tf.keras.losses.mse(y, out)  # mse：(y - out)平方，再求和\n",
    "loss"
   ]
  },
  {
   "cell_type": "code",
   "execution_count": 41,
   "metadata": {},
   "outputs": [
    {
     "data": {
      "text/plain": [
       "<tf.Tensor: shape=(), dtype=float32, numpy=0.28962484>"
      ]
     },
     "execution_count": 41,
     "metadata": {},
     "output_type": "execute_result"
    }
   ],
   "source": [
    "loss = tf.reduce_mean(loss)  # loss / 样本个数4\n",
    "loss"
   ]
  },
  {
   "cell_type": "markdown",
   "metadata": {},
   "source": [
    "### Vector\n",
    "向量 dim为1\n",
    "- Bias\n",
    " - [out_dim]\n",
    "\n",
    "x@w+b, 这里的b就是一个vector"
   ]
  },
  {
   "cell_type": "code",
   "execution_count": 54,
   "metadata": {},
   "outputs": [
    {
     "data": {
      "text/plain": [
       "<tf.Variable 'kernel:0' shape=(8, 10) dtype=float32, numpy=\n",
       "array([[-1.0235688e-01, -5.2988666e-01,  4.0034300e-01, -1.0584441e-01,\n",
       "         8.2964897e-03, -3.2638669e-01, -1.9582084e-01, -1.7525730e-01,\n",
       "         3.0720323e-01,  3.2224834e-01],\n",
       "       [-1.6029847e-01, -3.5928777e-01,  2.6531243e-01,  5.3958738e-01,\n",
       "        -2.4403656e-01, -3.1918672e-01,  2.1162981e-01, -1.7568359e-01,\n",
       "         3.5229826e-01, -2.9828167e-01],\n",
       "       [ 1.1530036e-01, -8.4505886e-02, -1.6188985e-01,  2.1279216e-02,\n",
       "        -4.5943260e-01,  4.6224380e-01, -3.8826221e-01, -5.6504250e-02,\n",
       "         9.9920630e-03,  6.7657232e-04],\n",
       "       [ 4.6368206e-01, -3.0797753e-01, -4.5958996e-01,  1.7096984e-01,\n",
       "         3.4139836e-01, -4.7526014e-01, -4.4895682e-01,  2.6429904e-01,\n",
       "         3.1793946e-01,  9.3247533e-02],\n",
       "       [-7.0917249e-02, -2.3401761e-01, -3.9788830e-01, -2.6053843e-01,\n",
       "        -4.2648405e-01,  4.6792316e-01, -1.5348393e-01, -4.4077718e-01,\n",
       "         2.2060901e-01,  5.4580784e-01],\n",
       "       [-4.3343306e-03,  2.3897928e-01,  9.1953933e-02, -3.3769816e-01,\n",
       "         3.1920874e-01, -2.5074181e-01, -2.7509862e-01,  2.9400748e-01,\n",
       "         3.5335654e-01, -2.8137109e-01],\n",
       "       [ 4.8991203e-01,  5.3619921e-02,  1.3725513e-01, -1.5078157e-01,\n",
       "        -4.6865192e-01,  4.2772424e-01, -3.7306911e-01, -5.6306100e-01,\n",
       "        -5.0258458e-02,  2.3936796e-01],\n",
       "       [-3.6743066e-01, -2.0148009e-01,  5.0418186e-01,  5.9485435e-05,\n",
       "        -3.1387079e-01, -4.6254393e-01,  1.4713782e-01, -1.7424363e-01,\n",
       "         3.9595830e-01,  5.3251565e-01]], dtype=float32)>"
      ]
     },
     "execution_count": 54,
     "metadata": {},
     "output_type": "execute_result"
    }
   ],
   "source": [
    "net = layers.Dense(10)\n",
    "net.build((4,8))\n",
    "net.kernel"
   ]
  },
  {
   "cell_type": "code",
   "execution_count": 55,
   "metadata": {},
   "outputs": [
    {
     "data": {
      "text/plain": [
       "<tf.Variable 'bias:0' shape=(10,) dtype=float32, numpy=array([0., 0., 0., 0., 0., 0., 0., 0., 0., 0.], dtype=float32)>"
      ]
     },
     "execution_count": 55,
     "metadata": {},
     "output_type": "execute_result"
    }
   ],
   "source": [
    "net.bias # b的shape"
   ]
  },
  {
   "cell_type": "markdown",
   "metadata": {},
   "source": [
    "### Matrix\n",
    "矩阵\n",
    "dim为2, 即2维\n",
    "\n",
    "示例：\n",
    "- input x: [b, vec_dim]， 如：[b, 784]，b张照片\n",
    "- weight: [input_dim, output_dim]，如：w [8, 10]\n",
    "\n",
    "理解：多行多列，4张照片，4个，每行784个像素点（单元格）"
   ]
  },
  {
   "cell_type": "code",
   "execution_count": 56,
   "metadata": {},
   "outputs": [
    {
     "data": {
      "text/plain": [
       "TensorShape([4, 784])"
      ]
     },
     "execution_count": 56,
     "metadata": {},
     "output_type": "execute_result"
    }
   ],
   "source": [
    "x = tf.random.normal([4, 784])  # 4张照片\n",
    "x.shape"
   ]
  },
  {
   "cell_type": "code",
   "execution_count": 57,
   "metadata": {},
   "outputs": [
    {
     "data": {
      "text/plain": [
       "TensorShape([4, 10])"
      ]
     },
     "execution_count": 57,
     "metadata": {},
     "output_type": "execute_result"
    }
   ],
   "source": [
    "net = layers.Dense(10)  # 784 -> 10\n",
    "net.build((4, 784))\n",
    "net(x).shape"
   ]
  },
  {
   "cell_type": "code",
   "execution_count": 58,
   "metadata": {},
   "outputs": [
    {
     "data": {
      "text/plain": [
       "TensorShape([784, 10])"
      ]
     },
     "execution_count": 58,
     "metadata": {},
     "output_type": "execute_result"
    }
   ],
   "source": [
    "net.kernel.shape  # w的shape"
   ]
  },
  {
   "cell_type": "code",
   "execution_count": 60,
   "metadata": {},
   "outputs": [
    {
     "data": {
      "text/plain": [
       "<tf.Variable 'bias:0' shape=(10,) dtype=float32, numpy=array([0., 0., 0., 0., 0., 0., 0., 0., 0., 0.], dtype=float32)>"
      ]
     },
     "execution_count": 60,
     "metadata": {},
     "output_type": "execute_result"
    }
   ],
   "source": [
    "net.bias  # b的shape"
   ]
  },
  {
   "cell_type": "markdown",
   "metadata": {},
   "source": [
    "### Dim=3 Tensor\n",
    "3维\n",
    "在自然语言处理（NLP）中用得很广泛\n",
    "示例：\n",
    "x: [b, seq_len, word_dim],  \n",
    "如：[b, 80, 5]，b个句子，每个句子80个单词，每个单词编码长度为5"
   ]
  },
  {
   "cell_type": "code",
   "execution_count": 61,
   "metadata": {},
   "outputs": [],
   "source": [
    "# imdb电影评论的数据集\n",
    "(x_train, y_train), (x_test, y_test) = keras.datasets.imdb.load_data(num_words=10000)"
   ]
  },
  {
   "cell_type": "code",
   "execution_count": 64,
   "metadata": {},
   "outputs": [
    {
     "data": {
      "text/plain": [
       "(25000, 80)"
      ]
     },
     "execution_count": 64,
     "metadata": {},
     "output_type": "execute_result"
    }
   ],
   "source": [
    "x_train = keras.preprocessing.sequence.pad_sequences(x_train, maxlen=80)\n",
    "x_train.shape  # 25000个人评价，每个评价80个单词"
   ]
  },
  {
   "cell_type": "code",
   "execution_count": 65,
   "metadata": {},
   "outputs": [
    {
     "ename": "NameError",
     "evalue": "name 'embedding' is not defined",
     "output_type": "error",
     "traceback": [
      "\u001b[0;31m---------------------------------------------------------------------------\u001b[0m",
      "\u001b[0;31mNameError\u001b[0m                                 Traceback (most recent call last)",
      "\u001b[0;32m<ipython-input-65-d613a8add257>\u001b[0m in \u001b[0;36m<module>\u001b[0;34m\u001b[0m\n\u001b[0;32m----> 1\u001b[0;31m \u001b[0memb\u001b[0m \u001b[0;34m=\u001b[0m \u001b[0membedding\u001b[0m\u001b[0;34m(\u001b[0m\u001b[0mx_train\u001b[0m\u001b[0;34m)\u001b[0m\u001b[0;34m\u001b[0m\u001b[0;34m\u001b[0m\u001b[0m\n\u001b[0m\u001b[1;32m      2\u001b[0m \u001b[0memb\u001b[0m\u001b[0;34m.\u001b[0m\u001b[0mshape\u001b[0m\u001b[0;34m\u001b[0m\u001b[0;34m\u001b[0m\u001b[0m\n",
      "\u001b[0;31mNameError\u001b[0m: name 'embedding' is not defined"
     ]
    }
   ],
   "source": [
    "emb = embedding(x_train)\n",
    "emb.shape  # （25000， 80， 100）每个单词编码长度100"
   ]
  },
  {
   "cell_type": "code",
   "execution_count": null,
   "metadata": {},
   "outputs": [],
   "source": [
    "out = rnn(emb[:4])\n",
    "out.shape  # (4, 256)"
   ]
  },
  {
   "cell_type": "markdown",
   "metadata": {},
   "source": [
    "### Dim=4 Tensor\n",
    "4维\n",
    "示例：\n",
    "\n",
    "- Image: [b, h, w, 3]， 如： 【b, 28, 28, 3】, b张图片，高28， 宽28， 3种颜色（RGB）\n",
    "- feature maps: [b, h, w, c]"
   ]
  },
  {
   "cell_type": "code",
   "execution_count": 74,
   "metadata": {},
   "outputs": [],
   "source": [
    "x = tf.random.normal((4, 32, 32, 3))"
   ]
  },
  {
   "cell_type": "code",
   "execution_count": 75,
   "metadata": {},
   "outputs": [],
   "source": [
    "net = layers.Conv2D(16, kernel_size=3)  # 卷积层"
   ]
  },
  {
   "cell_type": "code",
   "execution_count": 78,
   "metadata": {},
   "outputs": [
    {
     "data": {
      "text/plain": [
       "<tf.Tensor: shape=(4, 30, 30, 16), dtype=float32, numpy=\n",
       "array([[[[ 6.09420061e-01,  6.01881623e-01, -9.96427760e-02, ...,\n",
       "          -6.67118669e-01,  1.09667957e+00, -4.68863517e-01],\n",
       "         [-4.22077537e-01,  7.44081557e-01,  2.25839809e-01, ...,\n",
       "          -2.65523255e-01,  9.58567798e-01, -2.89709151e-01],\n",
       "         [ 5.29460423e-02, -6.70375109e-01,  6.99572325e-01, ...,\n",
       "           7.99767748e-02,  5.09350784e-02,  9.47182238e-01],\n",
       "         ...,\n",
       "         [-3.71488929e-01, -7.82385543e-02,  3.87075454e-01, ...,\n",
       "          -5.75514495e-01,  3.35612088e-01,  2.89113760e-01],\n",
       "         [ 1.54310897e-01, -6.13941789e-01, -9.93910372e-01, ...,\n",
       "           8.77744079e-01, -3.75775814e-01, -6.24302030e-02],\n",
       "         [-7.44941980e-02,  7.71007299e-01,  3.39731693e-01, ...,\n",
       "          -5.36737815e-02,  2.34903932e-01, -1.66384950e-01]],\n",
       "\n",
       "        [[-4.48333830e-01, -6.74905241e-01, -1.41872600e-01, ...,\n",
       "           3.49763215e-01, -4.78808969e-01, -3.07176620e-01],\n",
       "         [-1.29742771e-01, -1.50925383e-01, -2.41498902e-01, ...,\n",
       "           4.95474428e-01, -9.13940728e-01, -1.11110187e+00],\n",
       "         [-1.90693691e-01, -2.38416433e-01, -7.87733018e-01, ...,\n",
       "           1.09750497e+00,  6.57896232e-03, -9.76166725e-01],\n",
       "         ...,\n",
       "         [-2.24525988e-01,  1.39499593e+00, -9.78990972e-01, ...,\n",
       "          -5.88821828e-01,  6.16760552e-01, -2.37032071e-01],\n",
       "         [-7.07327485e-01, -8.49552333e-01,  7.93875277e-01, ...,\n",
       "          -1.49402946e-01,  6.80957735e-01,  2.52780676e-01],\n",
       "         [ 6.01759374e-01,  7.45590210e-01, -1.37706983e+00, ...,\n",
       "          -8.17907825e-02, -7.26164162e-01, -1.71751499e-01]],\n",
       "\n",
       "        [[ 1.51251197e-01,  6.59767389e-01, -5.85263431e-01, ...,\n",
       "          -9.99731064e-01,  9.42307234e-01, -3.15927535e-01],\n",
       "         [-6.19503498e-01,  6.62265778e-01, -3.59975755e-01, ...,\n",
       "          -1.10430098e+00,  1.16898023e-01, -1.99997991e-01],\n",
       "         [ 6.43188834e-01, -5.83249144e-02,  9.69967663e-01, ...,\n",
       "          -2.95508832e-01, -6.20827436e-01,  8.37670386e-01],\n",
       "         ...,\n",
       "         [ 5.26013374e-01, -1.19849131e-01,  8.94121170e-01, ...,\n",
       "          -5.61010838e-01,  4.21683639e-02, -2.44318575e-01],\n",
       "         [-3.50565940e-01,  3.00050169e-01, -1.36938067e-02, ...,\n",
       "           3.46603841e-02, -5.31901240e-01,  2.45721564e-02],\n",
       "         [ 8.51461530e-01,  3.28703940e-01, -3.34647536e-01, ...,\n",
       "          -1.46780640e-01,  2.16942027e-01, -5.32037675e-01]],\n",
       "\n",
       "        ...,\n",
       "\n",
       "        [[-4.44986492e-01, -8.09790015e-01,  3.36760022e-02, ...,\n",
       "           2.44511560e-01, -7.62884170e-02, -1.06548257e-01],\n",
       "         [ 3.96389395e-01, -1.68383062e-01, -3.29449074e-03, ...,\n",
       "           2.16952607e-01,  5.48511744e-01,  6.76223934e-02],\n",
       "         [ 3.96589249e-01,  3.59861851e-01, -5.02240621e-02, ...,\n",
       "          -1.32701707e+00,  1.03730154e+00, -5.70148289e-01],\n",
       "         ...,\n",
       "         [-6.03516579e-01, -2.35904634e-01, -2.73445815e-01, ...,\n",
       "           4.32023823e-01, -5.94707310e-01,  9.65633094e-01],\n",
       "         [-2.58657753e-01, -1.19292498e+00, -7.34568238e-01, ...,\n",
       "           3.55831720e-02, -7.28287578e-01,  4.55719620e-01],\n",
       "         [-7.08513036e-02,  6.06948175e-02, -7.45045066e-01, ...,\n",
       "           8.18435133e-01,  6.34944201e-01, -1.01290143e+00]],\n",
       "\n",
       "        [[-1.64600670e-01, -2.06511728e-02, -5.93098342e-01, ...,\n",
       "           5.05548835e-01,  1.00347228e-01, -3.50788474e-01],\n",
       "         [-3.26667339e-01, -1.37899733e+00, -4.80819255e-01, ...,\n",
       "          -3.68651718e-01,  6.86182022e-01, -7.57387519e-01],\n",
       "         [-5.11494935e-01, -1.54814392e-01,  2.02429548e-01, ...,\n",
       "           9.84554529e-01, -5.66356063e-01,  1.03904998e+00],\n",
       "         ...,\n",
       "         [ 9.19869661e-01, -2.25670308e-01,  1.12451158e-01, ...,\n",
       "          -8.23890209e-01,  4.73666668e-01, -7.18888998e-01],\n",
       "         [-5.43705583e-01, -2.16526121e-01,  4.13965791e-01, ...,\n",
       "          -1.30554295e+00,  9.72826302e-01,  1.44838631e+00],\n",
       "         [ 1.37928963e+00, -4.07315731e-01, -1.27798885e-01, ...,\n",
       "          -8.99273396e-01,  1.25506043e+00,  1.01987684e+00]],\n",
       "\n",
       "        [[ 3.08960795e-01,  4.06771630e-01, -1.04650521e+00, ...,\n",
       "          -4.84935880e-01, -3.12873870e-02,  1.95332140e-01],\n",
       "         [-8.21175054e-02,  4.33648556e-01,  3.58994484e-01, ...,\n",
       "           2.35728607e-01,  1.42636478e-01,  4.66709435e-01],\n",
       "         [-6.34979725e-01,  4.61844504e-02, -8.18850338e-01, ...,\n",
       "          -4.67833251e-01,  6.97052181e-01, -1.29086934e-02],\n",
       "         ...,\n",
       "         [-2.13518038e-01, -8.71549845e-01, -1.53466582e-01, ...,\n",
       "          -3.48735228e-02, -1.06209643e-01,  6.57572329e-01],\n",
       "         [-7.08811164e-01,  4.81909603e-01,  1.25659436e-01, ...,\n",
       "          -1.53162464e-01,  1.26554221e-01,  9.60285306e-01],\n",
       "         [-1.00147045e+00, -5.18953741e-01, -3.11933067e-02, ...,\n",
       "          -5.13012469e-01,  1.93770573e-01, -1.17945246e-01]]],\n",
       "\n",
       "\n",
       "       [[[-1.16062492e-01,  2.72198349e-01, -4.02456313e-01, ...,\n",
       "           1.19875327e-01,  4.87404883e-01, -4.68812019e-01],\n",
       "         [-2.81849325e-01, -4.30166312e-02,  8.45783472e-01, ...,\n",
       "           7.67305493e-01,  8.17419410e-01,  1.36562422e-01],\n",
       "         [-5.12725532e-01,  5.76561272e-01,  1.17381811e-02, ...,\n",
       "          -3.78583223e-01,  2.69092560e-01, -2.15287864e-01],\n",
       "         ...,\n",
       "         [-1.44808423e-02,  4.87581253e-01,  6.05500303e-02, ...,\n",
       "          -9.03377473e-01,  8.10340464e-01, -8.98036242e-01],\n",
       "         [ 3.22244652e-02, -6.98873639e-01, -1.38626981e+00, ...,\n",
       "          -3.41701269e-01,  1.22370911e+00,  4.79113817e-01],\n",
       "         [-9.02664721e-01,  1.59128654e+00, -2.24644825e-01, ...,\n",
       "          -1.25760603e+00,  3.06833535e-01,  5.65351903e-01]],\n",
       "\n",
       "        [[ 3.91293496e-01, -2.52781436e-03, -9.95336294e-01, ...,\n",
       "          -4.23287690e-01,  4.95417446e-01,  6.82588518e-01],\n",
       "         [-7.95042634e-01, -2.84199089e-01,  8.97097513e-02, ...,\n",
       "          -5.83949447e-01,  1.94307387e-01, -2.48822242e-01],\n",
       "         [ 3.00257683e-01,  4.15069014e-02, -5.08829594e-01, ...,\n",
       "           1.69766739e-01,  8.80414546e-02, -2.16188192e-01],\n",
       "         ...,\n",
       "         [-2.80707027e-03,  1.30143118e+00, -9.56843913e-01, ...,\n",
       "          -6.79926351e-02,  3.61550748e-01, -2.95949191e-01],\n",
       "         [-5.97697437e-01, -3.71591359e-01,  9.85888660e-01, ...,\n",
       "          -4.70086932e-01,  1.02369165e+00, -5.72904348e-01],\n",
       "         [ 1.29871464e+00,  9.01408434e-01, -6.61999807e-02, ...,\n",
       "           1.88469633e-01, -6.97223306e-01, -5.60244918e-01]],\n",
       "\n",
       "        [[-1.01606953e+00,  1.43561453e-01, -1.01322718e-01, ...,\n",
       "          -2.90512264e-01, -1.58156957e-02,  6.40906692e-01],\n",
       "         [-1.74970001e-01,  5.75511515e-01,  3.39762270e-01, ...,\n",
       "          -1.19594842e-01,  2.23271713e-01, -4.26155448e-01],\n",
       "         [-7.59516656e-02,  4.46166731e-02, -7.82303035e-01, ...,\n",
       "           8.79082363e-03,  6.33919705e-03, -4.12005931e-01],\n",
       "         ...,\n",
       "         [ 6.57149971e-01,  8.09952736e-01,  2.23719284e-01, ...,\n",
       "          -3.25019091e-01,  1.77619413e-01, -4.90196884e-01],\n",
       "         [-5.61470330e-01,  5.91864526e-01, -2.39910334e-01, ...,\n",
       "           2.10023925e-01, -1.19095162e-01, -3.73294175e-01],\n",
       "         [ 1.08347130e+00, -1.12046766e+00, -9.00321782e-01, ...,\n",
       "           4.43991393e-01, -1.11660525e-01, -1.14532638e+00]],\n",
       "\n",
       "        ...,\n",
       "\n",
       "        [[-1.16915262e+00,  1.81789622e-01,  1.01340353e-01, ...,\n",
       "          -1.58074653e+00, -1.83604985e-01,  6.63980305e-01],\n",
       "         [ 7.53401935e-01,  5.40633500e-01, -2.33592778e-01, ...,\n",
       "           6.56127155e-01, -6.01616621e-01,  2.37520665e-01],\n",
       "         [-9.05481935e-01,  1.90830380e-01, -5.68946660e-01, ...,\n",
       "          -3.91005129e-01, -5.67471161e-02, -1.30747962e+00],\n",
       "         ...,\n",
       "         [ 3.31830353e-01,  1.46134660e-01, -4.42061812e-01, ...,\n",
       "           8.94057930e-01, -5.33574879e-01,  2.02364281e-01],\n",
       "         [-6.92602158e-01, -8.98089111e-02, -5.86712174e-02, ...,\n",
       "          -6.51133239e-01,  6.87923729e-02, -4.60818887e-01],\n",
       "         [ 4.17158723e-01, -5.84073424e-01, -1.34480402e-01, ...,\n",
       "           4.28114533e-01,  5.58414519e-01,  9.67858970e-01]],\n",
       "\n",
       "        [[-6.92201138e-01,  1.74101698e+00,  8.60889196e-01, ...,\n",
       "          -5.29422045e-01,  1.22815803e-01, -2.78468579e-01],\n",
       "         [ 1.13880050e+00, -4.89105850e-01,  1.21236086e+00, ...,\n",
       "          -3.62031639e-01,  4.97581571e-01,  9.08882394e-02],\n",
       "         [ 1.78371227e+00,  7.54260302e-01, -5.99330127e-01, ...,\n",
       "           7.33719230e-01, -1.09237529e-01, -6.02912605e-01],\n",
       "         ...,\n",
       "         [ 1.91816017e-01, -8.39429256e-03, -2.57796109e-01, ...,\n",
       "           1.14204206e-01, -4.21844631e-01, -4.53266114e-01],\n",
       "         [ 3.08932245e-01,  6.99547589e-01,  8.80552903e-02, ...,\n",
       "           4.72546190e-01, -6.02564812e-02, -1.17112708e+00],\n",
       "         [-4.92715389e-01, -1.23644792e-01, -4.33364093e-01, ...,\n",
       "           3.85161221e-01,  1.12922966e-01,  2.42258579e-01]],\n",
       "\n",
       "        [[-3.84891719e-01,  1.94672957e-01, -5.99931955e-01, ...,\n",
       "           3.39062959e-01, -3.28439325e-01, -2.07158476e-01],\n",
       "         [-5.27012706e-01, -4.78622727e-02,  1.52428997e+00, ...,\n",
       "           1.05222106e+00, -1.27882493e+00,  4.97059822e-01],\n",
       "         [ 2.72906005e-01, -1.07567620e+00, -1.84111193e-01, ...,\n",
       "           5.44742048e-01, -8.35776150e-01, -1.01087674e-01],\n",
       "         ...,\n",
       "         [-3.13507199e-01,  1.08141172e+00,  2.65735149e-01, ...,\n",
       "          -1.48456967e+00, -4.21855092e-01, -6.62909597e-02],\n",
       "         [ 7.08899081e-01,  5.05476534e-01,  3.02811623e-01, ...,\n",
       "           4.90530878e-01, -7.10917234e-01,  4.10902053e-01],\n",
       "         [ 6.65867142e-03,  8.87947083e-01,  6.95813358e-01, ...,\n",
       "          -2.61881858e-01, -2.22404078e-01, -9.65316236e-01]]],\n",
       "\n",
       "\n",
       "       [[[-6.85644925e-01,  5.89187741e-01, -2.10617781e-01, ...,\n",
       "           6.88486457e-01,  6.47104919e-01, -5.68232119e-01],\n",
       "         [ 4.65022564e-01, -3.15761596e-01,  2.98840582e-01, ...,\n",
       "          -9.64836776e-02,  7.38997579e-01, -4.43004757e-01],\n",
       "         [-4.08501178e-01,  1.40787497e-01,  1.92601201e-05, ...,\n",
       "           1.08945869e-01, -2.89012998e-01,  2.25049071e-02],\n",
       "         ...,\n",
       "         [ 1.85717151e-01, -9.98942032e-02,  1.44783139e-01, ...,\n",
       "          -6.77761197e-01,  1.16861835e-01,  8.83792043e-01],\n",
       "         [-9.13743258e-01,  7.45742202e-01, -2.91639447e-01, ...,\n",
       "          -1.20752597e+00, -7.19178617e-02, -1.72126561e-01],\n",
       "         [ 3.29128653e-01, -5.24309754e-01,  1.93251416e-01, ...,\n",
       "           6.56175315e-01, -6.66916430e-01, -3.54527652e-01]],\n",
       "\n",
       "        [[-1.26156878e+00, -2.70487189e-01, -3.31597954e-01, ...,\n",
       "          -3.92638594e-01,  2.96636939e-01, -5.61404563e-02],\n",
       "         [ 4.41790819e-01,  8.21954310e-01,  2.04700097e-01, ...,\n",
       "           6.62344217e-01, -7.16305196e-01,  6.59440234e-02],\n",
       "         [ 2.62666702e-01,  7.89035618e-01, -4.27987456e-01, ...,\n",
       "           4.88797687e-02,  2.40715250e-01, -7.57703543e-01],\n",
       "         ...,\n",
       "         [-8.09835136e-01,  1.23210818e-01,  1.82547513e-02, ...,\n",
       "           2.42618874e-01, -8.71951580e-01,  1.06375849e+00],\n",
       "         [ 1.19796419e+00,  9.81728435e-01,  2.81517118e-01, ...,\n",
       "          -1.63479298e-01, -5.97689033e-01, -9.77999032e-01],\n",
       "         [ 5.71912348e-01,  2.13477895e-01,  2.79986918e-01, ...,\n",
       "           8.14019367e-02, -6.48506656e-02, -3.43953550e-01]],\n",
       "\n",
       "        [[ 7.42113948e-01,  3.98422599e-01,  2.61302084e-01, ...,\n",
       "           1.63778380e-01,  2.33470738e-01, -9.45270658e-01],\n",
       "         [-2.38129124e-01, -3.90068889e-02, -3.22881013e-01, ...,\n",
       "          -2.29907274e-01,  5.13808012e-01, -1.58029974e-01],\n",
       "         [-5.11771083e-01,  5.06883383e-01,  7.70267189e-01, ...,\n",
       "          -7.18606889e-01, -2.69988298e-01,  3.04404616e-01],\n",
       "         ...,\n",
       "         [ 1.01991642e+00, -7.70775974e-01, -4.15253401e-01, ...,\n",
       "          -4.11404401e-01,  5.09535670e-01, -1.02609718e+00],\n",
       "         [-4.56807911e-01, -3.55937511e-01,  1.03884302e-02, ...,\n",
       "           7.58816957e-01, -3.20438415e-01,  1.85595647e-01],\n",
       "         [-5.77248335e-01, -2.16424733e-01,  3.13907236e-01, ...,\n",
       "          -1.65207848e-01, -3.73287827e-01,  6.03477716e-01]],\n",
       "\n",
       "        ...,\n",
       "\n",
       "        [[-6.75102711e-01,  4.36195940e-01, -6.52237594e-01, ...,\n",
       "          -2.31418684e-01,  6.54762447e-01, -8.82368147e-01],\n",
       "         [ 2.58272111e-01,  5.68527021e-02, -5.49904466e-01, ...,\n",
       "           3.77043426e-01,  5.32086909e-01, -3.51681948e-01],\n",
       "         [ 4.01709050e-01,  8.54650855e-01, -1.37726068e-01, ...,\n",
       "          -6.36062443e-01, -4.40103769e-01, -1.13906002e+00],\n",
       "         ...,\n",
       "         [ 3.34671885e-01,  4.98744249e-01, -2.38963351e-01, ...,\n",
       "           2.99812287e-01, -1.53499946e-01, -9.01351124e-02],\n",
       "         [-9.86136675e-01,  5.91092050e-01,  4.80045050e-01, ...,\n",
       "          -4.25267607e-01, -3.06616277e-01,  3.36744279e-01],\n",
       "         [ 7.39303052e-01,  2.81306446e-01, -4.84557718e-01, ...,\n",
       "           4.65888143e-01,  3.94612998e-01, -8.70767117e-01]],\n",
       "\n",
       "        [[-6.41760370e-03,  8.17395151e-01,  4.24959689e-01, ...,\n",
       "          -8.71181712e-02,  3.94744426e-01,  2.75995106e-01],\n",
       "         [ 8.43347907e-01, -1.24762468e-01,  3.35562587e-01, ...,\n",
       "          -4.85029608e-01, -1.94361329e-01, -2.76237220e-01],\n",
       "         [ 7.44395733e-01,  1.26647204e-01, -3.90800029e-01, ...,\n",
       "           7.36673057e-01, -5.00651717e-01, -4.65547115e-01],\n",
       "         ...,\n",
       "         [-1.35990116e-03,  1.63130432e-01, -2.73560882e-01, ...,\n",
       "           4.84857589e-01, -2.84864306e-01,  1.80341676e-01],\n",
       "         [ 3.69133145e-01,  7.42219448e-01,  2.04213083e-01, ...,\n",
       "          -1.94505714e-02, -4.62827742e-01, -8.30502331e-01],\n",
       "         [ 1.09516434e-01, -5.84650934e-01, -3.44426304e-01, ...,\n",
       "           9.34128940e-01, -2.25755930e-01, -1.23740621e-01]],\n",
       "\n",
       "        [[ 2.39200994e-01,  4.27523106e-01,  6.57702506e-01, ...,\n",
       "          -3.67875025e-02, -8.81240010e-01, -5.87370574e-01],\n",
       "         [ 2.17754960e-01,  7.47601762e-02, -5.80871642e-01, ...,\n",
       "           9.20706332e-01,  2.23105639e-01,  2.35828444e-01],\n",
       "         [-5.60748756e-01,  2.55404353e-01, -3.71290743e-01, ...,\n",
       "          -7.53341258e-01, -1.25457987e-01,  4.68781739e-01],\n",
       "         ...,\n",
       "         [ 4.36668664e-01,  6.12767994e-01, -5.51887453e-01, ...,\n",
       "           3.83159637e-01, -5.36284208e-01, -1.42487478e+00],\n",
       "         [ 6.06859863e-01,  2.23819762e-02,  7.51482397e-02, ...,\n",
       "           9.69538927e-01, -6.65707231e-01, -7.42306560e-02],\n",
       "         [ 1.10070355e-01, -1.41306117e-01,  1.13366878e+00, ...,\n",
       "           1.37937546e-01, -3.65946054e-01,  2.89514989e-01]]],\n",
       "\n",
       "\n",
       "       [[[ 2.50589550e-01,  8.56927752e-01, -5.94624281e-01, ...,\n",
       "          -3.47836524e-01, -2.27610707e-01, -8.97600949e-01],\n",
       "         [ 3.53737295e-01,  3.72638404e-01,  6.76596463e-01, ...,\n",
       "           6.71472013e-01, -1.03976214e+00, -8.63296837e-02],\n",
       "         [ 1.61392644e-01, -8.65030736e-02,  1.03064799e+00, ...,\n",
       "           3.76515716e-01, -6.94103241e-01,  5.94054997e-01],\n",
       "         ...,\n",
       "         [-6.78465784e-01, -2.22102389e-01,  8.35904241e-01, ...,\n",
       "          -1.13697916e-01, -1.43249631e-01,  9.25095499e-01],\n",
       "         [-2.10479185e-01, -2.92795241e-01, -6.54862225e-02, ...,\n",
       "          -1.53344423e-01, -1.21542498e-01,  3.50611120e-01],\n",
       "         [-2.32251644e-01,  1.09475292e-01, -5.43024480e-01, ...,\n",
       "           4.54733595e-02,  1.71785325e-01, -5.32204807e-01]],\n",
       "\n",
       "        [[ 3.45836997e-01, -1.54189795e-01,  3.87839705e-01, ...,\n",
       "           1.39843106e-01, -2.35210046e-01, -1.57663584e-01],\n",
       "         [ 3.31579149e-01, -5.59821606e-01,  6.77721918e-01, ...,\n",
       "           1.04804373e+00, -6.34423792e-01,  2.76195765e-01],\n",
       "         [ 3.67105007e-01, -6.88057065e-01, -1.41197813e+00, ...,\n",
       "           7.75555372e-01,  1.06906317e-01, -2.84912109e-01],\n",
       "         ...,\n",
       "         [ 3.73189360e-01, -5.38154781e-01,  6.97303414e-02, ...,\n",
       "           7.08868027e-01, -6.46422029e-01,  3.55875269e-02],\n",
       "         [-9.03389215e-01, -4.95434374e-01,  3.73347290e-02, ...,\n",
       "           5.92979729e-01,  6.90502167e-01,  3.95383298e-01],\n",
       "         [ 2.84213215e-01, -4.42934602e-01, -1.73429698e-01, ...,\n",
       "           3.75055194e-01, -1.81354851e-01, -2.05969617e-01]],\n",
       "\n",
       "        [[ 3.41453016e-01, -2.15218440e-01, -6.62698209e-01, ...,\n",
       "           1.15555298e+00, -5.15333474e-01, -9.37409878e-01],\n",
       "         [-5.59034385e-02, -1.11489558e+00, -1.36835843e-01, ...,\n",
       "           3.13086301e-01, -6.96958482e-01, -9.03490424e-01],\n",
       "         [ 4.88261044e-01, -9.61352050e-01,  1.57081053e-01, ...,\n",
       "           6.98986650e-01,  1.25747323e-01,  1.34703493e+00],\n",
       "         ...,\n",
       "         [ 1.78085661e+00, -5.88057220e-01,  3.94706130e-01, ...,\n",
       "          -1.10784031e-01,  2.43567690e-01, -2.05653254e-02],\n",
       "         [ 5.04022911e-02, -3.91689062e-01, -1.23685434e-01, ...,\n",
       "          -4.14999753e-01,  3.35746296e-02,  1.50784060e-01],\n",
       "         [-9.32391703e-01, -2.98955709e-01, -6.65277004e-01, ...,\n",
       "           2.48017594e-01, -1.68604236e-02, -5.66197276e-01]],\n",
       "\n",
       "        ...,\n",
       "\n",
       "        [[ 3.32669262e-03, -4.53298748e-01, -8.88661027e-01, ...,\n",
       "           4.48412657e-01, -4.33852039e-02, -2.82437384e-01],\n",
       "         [-3.63485247e-01,  1.21438146e-01,  1.64649263e-01, ...,\n",
       "          -2.93955415e-01, -8.47600520e-01,  5.29636502e-01],\n",
       "         [ 1.64692700e-01, -2.17334986e-01,  5.64114511e-01, ...,\n",
       "          -1.33675396e-01, -6.48252815e-02,  2.32135788e-01],\n",
       "         ...,\n",
       "         [-2.38695607e-01, -3.92638415e-01, -5.22349358e-01, ...,\n",
       "           2.27748275e-01,  4.46266890e-01, -8.51597369e-01],\n",
       "         [ 1.23739585e-01, -2.97015339e-01,  6.35271311e-01, ...,\n",
       "           4.53419328e-01,  3.01447231e-02,  7.93847501e-01],\n",
       "         [ 5.56473374e-01,  4.63076890e-01,  1.06239963e+00, ...,\n",
       "          -1.52651894e+00, -3.32228571e-01,  1.14704795e-01]],\n",
       "\n",
       "        [[ 1.85814574e-01,  1.87477842e-01,  7.57028759e-01, ...,\n",
       "           4.35795099e-01, -6.74693227e-01,  6.44502759e-01],\n",
       "         [ 8.91942739e-01,  9.46902573e-01,  5.84902525e-01, ...,\n",
       "          -1.68754086e-02, -1.07545578e+00, -6.12434745e-02],\n",
       "         [ 2.48436406e-01,  4.60328571e-02, -6.73987389e-01, ...,\n",
       "           1.09865534e+00,  1.90789685e-01, -5.48498109e-02],\n",
       "         ...,\n",
       "         [-3.75590861e-01, -1.80980623e-01,  1.47383556e-01, ...,\n",
       "          -4.77421507e-02,  9.13787782e-01,  5.64679980e-01],\n",
       "         [-9.68529642e-01, -8.02830234e-02, -1.85500920e-01, ...,\n",
       "          -5.07639647e-01, -3.49465787e-01,  9.45853829e-01],\n",
       "         [-6.37962699e-01,  1.25531483e+00,  2.53546350e-02, ...,\n",
       "           4.66103971e-01, -8.15921485e-01,  1.97991028e-01]],\n",
       "\n",
       "        [[ 2.93331146e-01,  2.16680676e-01, -3.33234761e-03, ...,\n",
       "           3.08981687e-01, -8.43311131e-01, -4.35462058e-01],\n",
       "         [ 9.12676513e-01, -1.83141723e-01, -2.58697331e-01, ...,\n",
       "           4.31864023e-01,  2.29294792e-01, -8.82019162e-01],\n",
       "         [-5.97530067e-01, -8.10658097e-01,  1.93432570e-01, ...,\n",
       "          -5.92558198e-02, -5.77361465e-01,  7.04703629e-01],\n",
       "         ...,\n",
       "         [ 5.22106826e-01,  4.50374663e-01, -4.14465629e-02, ...,\n",
       "          -3.08857262e-01, -1.13954268e-01, -1.75509349e-01],\n",
       "         [ 9.40051615e-01,  5.84623694e-01, -3.95895302e-01, ...,\n",
       "          -4.61307228e-01,  1.03669381e+00, -2.84388036e-01],\n",
       "         [ 8.95486772e-02,  1.19891502e-01,  1.83176711e-01, ...,\n",
       "          -1.19909739e+00,  7.29436934e-01,  2.49783069e-01]]]],\n",
       "      dtype=float32)>"
      ]
     },
     "execution_count": 78,
     "metadata": {},
     "output_type": "execute_result"
    }
   ],
   "source": [
    "net(x)  # shape为(4, 30, 30, 16), 长宽比没有改变，但channel为3变成16了"
   ]
  },
  {
   "cell_type": "markdown",
   "metadata": {},
   "source": [
    "### Dim=5 Tensor\n",
    "- Single task: [b, h, w, 3]\n",
    "- meta-learning\n",
    " - [task_b, b, h, w, 3]， 理解，分成多个任务去处理4维的"
   ]
  },
  {
   "cell_type": "code",
   "execution_count": null,
   "metadata": {},
   "outputs": [],
   "source": []
  }
 ],
 "metadata": {
  "kernelspec": {
   "display_name": "Python 3",
   "language": "python",
   "name": "python3"
  },
  "language_info": {
   "codemirror_mode": {
    "name": "ipython",
    "version": 3
   },
   "file_extension": ".py",
   "mimetype": "text/x-python",
   "name": "python",
   "nbconvert_exporter": "python",
   "pygments_lexer": "ipython3",
   "version": "3.7.6"
  }
 },
 "nbformat": 4,
 "nbformat_minor": 2
}
